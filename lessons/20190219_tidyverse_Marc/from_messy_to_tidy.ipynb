{
 "cells": [
  {
   "cell_type": "code",
   "execution_count": 1,
   "metadata": {},
   "outputs": [
    {
     "name": "stderr",
     "output_type": "stream",
     "text": [
      "── Attaching packages ─────────────────────────────────────── tidyverse 1.2.1 ──\n",
      "✔ ggplot2 3.0.0     ✔ purrr   0.2.5\n",
      "✔ tibble  1.4.2     ✔ dplyr   0.7.6\n",
      "✔ tidyr   0.8.1     ✔ stringr 1.3.1\n",
      "✔ readr   1.1.1     ✔ forcats 0.3.0\n",
      "── Conflicts ────────────────────────────────────────── tidyverse_conflicts() ──\n",
      "✖ dplyr::filter() masks stats::filter()\n",
      "✖ dplyr::lag()    masks stats::lag()\n"
     ]
    }
   ],
   "source": [
    "library(tidyverse)"
   ]
  },
  {
   "cell_type": "markdown",
   "metadata": {},
   "source": [
    "## Data import"
   ]
  },
  {
   "cell_type": "code",
   "execution_count": null,
   "metadata": {},
   "outputs": [],
   "source": [
    "# read data directly from github\n",
    "df = read_csv(\"https://raw.githubusercontent.com/OHI-Science/data-science-training/master/data/ca.csv\") \n",
    "\n",
    "# let's take a look at it\n",
    "glimpse(df)"
   ]
  },
  {
   "cell_type": "code",
   "execution_count": 5,
   "metadata": {},
   "outputs": [
    {
     "data": {
      "text/html": [
       "<table>\n",
       "<thead><tr><th scope=col>genotype</th><th scope=col>scientist</th><th scope=col>upper</th><th scope=col>lower</th></tr></thead>\n",
       "<tbody>\n",
       "\t<tr><td>wt-1     </td><td>petra    </td><td> 90.47113</td><td> 86.66365</td></tr>\n",
       "\t<tr><td>wt-2     </td><td>petra    </td><td>104.10747</td><td>110.01898</td></tr>\n",
       "\t<tr><td>wt-3     </td><td>petra    </td><td>102.94514</td><td>107.31042</td></tr>\n",
       "\t<tr><td>wt-4     </td><td>petra    </td><td>110.70072</td><td>117.51176</td></tr>\n",
       "\t<tr><td>wt-5     </td><td>petra    </td><td> 95.10736</td><td> 89.52991</td></tr>\n",
       "\t<tr><td>wt-6     </td><td>peter    </td><td>105.25195</td><td>102.78445</td></tr>\n",
       "</tbody>\n",
       "</table>\n"
      ],
      "text/latex": [
       "\\begin{tabular}{r|llll}\n",
       " genotype & scientist & upper & lower\\\\\n",
       "\\hline\n",
       "\t wt-1      & petra     &  90.47113 &  86.66365\\\\\n",
       "\t wt-2      & petra     & 104.10747 & 110.01898\\\\\n",
       "\t wt-3      & petra     & 102.94514 & 107.31042\\\\\n",
       "\t wt-4      & petra     & 110.70072 & 117.51176\\\\\n",
       "\t wt-5      & petra     &  95.10736 &  89.52991\\\\\n",
       "\t wt-6      & peter     & 105.25195 & 102.78445\\\\\n",
       "\\end{tabular}\n"
      ],
      "text/markdown": [
       "\n",
       "genotype | scientist | upper | lower | \n",
       "|---|---|---|---|---|---|\n",
       "| wt-1      | petra     |  90.47113 |  86.66365 | \n",
       "| wt-2      | petra     | 104.10747 | 110.01898 | \n",
       "| wt-3      | petra     | 102.94514 | 107.31042 | \n",
       "| wt-4      | petra     | 110.70072 | 117.51176 | \n",
       "| wt-5      | petra     |  95.10736 |  89.52991 | \n",
       "| wt-6      | peter     | 105.25195 | 102.78445 | \n",
       "\n",
       "\n"
      ],
      "text/plain": [
       "  genotype scientist upper     lower    \n",
       "1 wt-1     petra      90.47113  86.66365\n",
       "2 wt-2     petra     104.10747 110.01898\n",
       "3 wt-3     petra     102.94514 107.31042\n",
       "4 wt-4     petra     110.70072 117.51176\n",
       "5 wt-5     petra      95.10736  89.52991\n",
       "6 wt-6     peter     105.25195 102.78445"
      ]
     },
     "metadata": {},
     "output_type": "display_data"
    }
   ],
   "source": [
    "# column 'genotype'\n",
    "wildtype = c(paste(rep(\"wt\",10),seq(1,10,1),sep = \"-\"))\n",
    "hairy = c(paste(rep(\"hairy\",10),seq(1,10,1),sep = \"-\"))\n",
    "bald = c(paste(rep(\"bald\",10),seq(1,10,1),sep = \"-\"))\n",
    "genotype = c(wildtype,hairy,bald)\n",
    "\n",
    "# column with petra and peter\n",
    "scientist = c(\n",
    "  rep(\"petra\",5),\n",
    "  rep(\"peter\",5),\n",
    "  rep(\"petra\",5),\n",
    "  rep(\"peter\",5),\n",
    "  rep(\"petra\",5),\n",
    "  rep(\"peter\",5)\n",
    ")\n",
    "\n",
    "# one column for leaf bottom side and one for leaf upper side\n",
    "## upper side\n",
    "u_wt = rnorm(n = 10,mean = 100,sd = 10)\n",
    "u_hairy = rnorm(n = 10,mean = 500,sd = 30)\n",
    "u_bald = rnorm(n = 10,mean = 20,sd = 5)\n",
    "upper = c(u_wt,u_hairy,u_bald)\n",
    "## lower side  \n",
    "d_wt = u_wt + runif(n = 10,min = -10,max = +10)\n",
    "d_hairy = u_hairy + runif(n = 10,min = -50,max = +50)\n",
    "d_bald = u_bald + runif(n = 10,min = 0,max = +10)\n",
    "lower = c(d_wt,d_hairy,d_bald)\n",
    "\n",
    "df = data.frame(\n",
    "  genotype = genotype,\n",
    "  scientist = scientist,\n",
    "  upper = upper,\n",
    "  lower = lower)\n",
    "head(df)"
   ]
  },
  {
   "cell_type": "markdown",
   "metadata": {},
   "source": [
    "**Question**: How would you calculate the mean and standard deviation of the trichome counts per person? Is it easy to do? "
   ]
  },
  {
   "cell_type": "markdown",
   "metadata": {},
   "source": [
    "**Question**: what are other potential problems with this dataset? What columns need to be changed?"
   ]
  },
  {
   "cell_type": "markdown",
   "metadata": {},
   "source": [
    "**Question**: how would the corresponding tidy dataset look like?"
   ]
  },
  {
   "cell_type": "markdown",
   "metadata": {},
   "source": [
    "# From messy to tidy"
   ]
  },
  {
   "cell_type": "markdown",
   "metadata": {},
   "source": [
    "First let's separate the genotype column into a genotype and a biological replicate column"
   ]
  },
  {
   "cell_type": "code",
   "execution_count": 10,
   "metadata": {},
   "outputs": [
    {
     "data": {
      "text/html": [
       "<table>\n",
       "<thead><tr><th scope=col>genotype</th><th scope=col>replicate</th><th scope=col>scientist</th><th scope=col>upper</th><th scope=col>lower</th></tr></thead>\n",
       "<tbody>\n",
       "\t<tr><td>wt       </td><td>1        </td><td>petra    </td><td> 90.47113</td><td> 86.66365</td></tr>\n",
       "\t<tr><td>wt       </td><td>2        </td><td>petra    </td><td>104.10747</td><td>110.01898</td></tr>\n",
       "\t<tr><td>wt       </td><td>3        </td><td>petra    </td><td>102.94514</td><td>107.31042</td></tr>\n",
       "\t<tr><td>wt       </td><td>4        </td><td>petra    </td><td>110.70072</td><td>117.51176</td></tr>\n",
       "\t<tr><td>wt       </td><td>5        </td><td>petra    </td><td> 95.10736</td><td> 89.52991</td></tr>\n",
       "\t<tr><td>wt       </td><td>6        </td><td>peter    </td><td>105.25195</td><td>102.78445</td></tr>\n",
       "</tbody>\n",
       "</table>\n"
      ],
      "text/latex": [
       "\\begin{tabular}{r|lllll}\n",
       " genotype & replicate & scientist & upper & lower\\\\\n",
       "\\hline\n",
       "\t wt        & 1         & petra     &  90.47113 &  86.66365\\\\\n",
       "\t wt        & 2         & petra     & 104.10747 & 110.01898\\\\\n",
       "\t wt        & 3         & petra     & 102.94514 & 107.31042\\\\\n",
       "\t wt        & 4         & petra     & 110.70072 & 117.51176\\\\\n",
       "\t wt        & 5         & petra     &  95.10736 &  89.52991\\\\\n",
       "\t wt        & 6         & peter     & 105.25195 & 102.78445\\\\\n",
       "\\end{tabular}\n"
      ],
      "text/markdown": [
       "\n",
       "genotype | replicate | scientist | upper | lower | \n",
       "|---|---|---|---|---|---|\n",
       "| wt        | 1         | petra     |  90.47113 |  86.66365 | \n",
       "| wt        | 2         | petra     | 104.10747 | 110.01898 | \n",
       "| wt        | 3         | petra     | 102.94514 | 107.31042 | \n",
       "| wt        | 4         | petra     | 110.70072 | 117.51176 | \n",
       "| wt        | 5         | petra     |  95.10736 |  89.52991 | \n",
       "| wt        | 6         | peter     | 105.25195 | 102.78445 | \n",
       "\n",
       "\n"
      ],
      "text/plain": [
       "  genotype replicate scientist upper     lower    \n",
       "1 wt       1         petra      90.47113  86.66365\n",
       "2 wt       2         petra     104.10747 110.01898\n",
       "3 wt       3         petra     102.94514 107.31042\n",
       "4 wt       4         petra     110.70072 117.51176\n",
       "5 wt       5         petra      95.10736  89.52991\n",
       "6 wt       6         peter     105.25195 102.78445"
      ]
     },
     "metadata": {},
     "output_type": "display_data"
    }
   ],
   "source": [
    "df.parsed = separate(data = df,col = genotype,into = c(\"genotype\",\"replicate\"))\n",
    "head(df.parsed)"
   ]
  },
  {
   "cell_type": "markdown",
   "metadata": {},
   "source": [
    "Then let's reshape the dataframe so that `upper` and `lower` column are transformed into rows. They are indeed experimental variables and should  "
   ]
  }
 ],
 "metadata": {
  "kernelspec": {
   "display_name": "R",
   "language": "R",
   "name": "ir"
  },
  "language_info": {
   "codemirror_mode": "r",
   "file_extension": ".r",
   "mimetype": "text/x-r-source",
   "name": "R",
   "pygments_lexer": "r",
   "version": "3.5.1"
  }
 },
 "nbformat": 4,
 "nbformat_minor": 2
}
