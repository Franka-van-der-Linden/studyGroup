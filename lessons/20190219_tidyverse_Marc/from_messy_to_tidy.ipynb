{
 "cells": [
  {
   "cell_type": "markdown",
   "metadata": {},
   "source": [
    "# Introduction"
   ]
  },
  {
   "cell_type": "markdown",
   "metadata": {},
   "source": [
    "See the README file of the lesson."
   ]
  },
  {
   "cell_type": "markdown",
   "metadata": {},
   "source": [
    "# Loading the tidyverse lesson and dataset downloading"
   ]
  },
  {
   "cell_type": "markdown",
   "metadata": {},
   "source": [
    " ## Load the library   "
   ]
  },
  {
   "cell_type": "code",
   "execution_count": 61,
   "metadata": {},
   "outputs": [],
   "source": [
    "library(tidyverse,warn.conflicts = FALSE)"
   ]
  },
  {
   "cell_type": "markdown",
   "metadata": {},
   "source": [
    "## Data import and first insight into the data"
   ]
  },
  {
   "cell_type": "code",
   "execution_count": 62,
   "metadata": {},
   "outputs": [],
   "source": [
    "# read data directly from github\n",
    "#df = read_csv(\"https://raw.githubusercontent.com/OHI-Science/data-science-training/master/data/ca.csv\") \n",
    "\n",
    "# let's take a look at it\n",
    "#glimpse(df)"
   ]
  },
  {
   "cell_type": "code",
   "execution_count": 63,
   "metadata": {},
   "outputs": [
    {
     "data": {
      "text/html": [
       "<table>\n",
       "<thead><tr><th scope=col>genotype</th><th scope=col>scientist</th><th scope=col>upper</th><th scope=col>lower</th></tr></thead>\n",
       "<tbody>\n",
       "\t<tr><td>wt-1     </td><td>petra    </td><td>116.67466</td><td>126.47645</td></tr>\n",
       "\t<tr><td>wt-2     </td><td>petra    </td><td> 94.47904</td><td> 95.45805</td></tr>\n",
       "\t<tr><td>wt-3     </td><td>petra    </td><td> 92.89996</td><td>119.28633</td></tr>\n",
       "\t<tr><td>wt-4     </td><td>petra    </td><td>101.74975</td><td>110.83123</td></tr>\n",
       "\t<tr><td>wt-5     </td><td>petra    </td><td>145.04511</td><td>152.43185</td></tr>\n",
       "\t<tr><td>wt-6     </td><td>peter    </td><td>116.68920</td><td>146.23790</td></tr>\n",
       "</tbody>\n",
       "</table>\n"
      ],
      "text/latex": [
       "\\begin{tabular}{r|llll}\n",
       " genotype & scientist & upper & lower\\\\\n",
       "\\hline\n",
       "\t wt-1      & petra     & 116.67466 & 126.47645\\\\\n",
       "\t wt-2      & petra     &  94.47904 &  95.45805\\\\\n",
       "\t wt-3      & petra     &  92.89996 & 119.28633\\\\\n",
       "\t wt-4      & petra     & 101.74975 & 110.83123\\\\\n",
       "\t wt-5      & petra     & 145.04511 & 152.43185\\\\\n",
       "\t wt-6      & peter     & 116.68920 & 146.23790\\\\\n",
       "\\end{tabular}\n"
      ],
      "text/markdown": [
       "\n",
       "genotype | scientist | upper | lower | \n",
       "|---|---|---|---|---|---|\n",
       "| wt-1      | petra     | 116.67466 | 126.47645 | \n",
       "| wt-2      | petra     |  94.47904 |  95.45805 | \n",
       "| wt-3      | petra     |  92.89996 | 119.28633 | \n",
       "| wt-4      | petra     | 101.74975 | 110.83123 | \n",
       "| wt-5      | petra     | 145.04511 | 152.43185 | \n",
       "| wt-6      | peter     | 116.68920 | 146.23790 | \n",
       "\n",
       "\n"
      ],
      "text/plain": [
       "  genotype scientist upper     lower    \n",
       "1 wt-1     petra     116.67466 126.47645\n",
       "2 wt-2     petra      94.47904  95.45805\n",
       "3 wt-3     petra      92.89996 119.28633\n",
       "4 wt-4     petra     101.74975 110.83123\n",
       "5 wt-5     petra     145.04511 152.43185\n",
       "6 wt-6     peter     116.68920 146.23790"
      ]
     },
     "metadata": {},
     "output_type": "display_data"
    }
   ],
   "source": [
    "# set seed to reproduce results\n",
    "set.seed(123456)\n",
    "\n",
    "# column 'genotype'\n",
    "wildtype = c(paste(rep(\"wt\",10),seq(1,10,1),sep = \"-\"))\n",
    "hairy = c(paste(rep(\"hairy\",10),seq(1,10,1),sep = \"-\"))\n",
    "bald = c(paste(rep(\"bald\",10),seq(1,10,1),sep = \"-\"))\n",
    "genotype = c(wildtype,hairy,bald)\n",
    "\n",
    "# column with petra and peter\n",
    "scientist = c(\n",
    "  rep(\"petra\",5),\n",
    "  rep(\"peter\",5),\n",
    "  rep(\"petra\",5),\n",
    "  rep(\"peter\",5),\n",
    "  rep(\"petra\",5),\n",
    "  rep(\"peter\",5)\n",
    ")\n",
    "\n",
    "# one column for leaf bottom side and one for leaf upper side\n",
    "## upper side\n",
    "u_wt = rnorm(n = 10,mean = 100,sd = 20)\n",
    "u_hairy = rnorm(n = 10,mean = 500,sd = 50)\n",
    "u_bald = rnorm(n = 10,mean = 20,sd = 8)\n",
    "upper = c(u_wt,u_hairy,u_bald)\n",
    "## lower side  \n",
    "d_wt = u_wt + runif(n = 10,min = 0,max = +50)\n",
    "d_hairy = u_hairy + runif(n = 10,min = 100,max = +500)\n",
    "d_bald = u_bald + runif(n = 10,min = 50,max = +100)\n",
    "lower = c(d_wt,d_hairy,d_bald)\n",
    "\n",
    "df = data.frame(\n",
    "  genotype = genotype,\n",
    "  scientist = scientist,\n",
    "  upper = upper,\n",
    "  lower = lower)\n",
    "head(df)"
   ]
  },
  {
   "cell_type": "markdown",
   "metadata": {},
   "source": []
  },
  {
   "cell_type": "markdown",
   "metadata": {},
   "source": []
  },
  {
   "cell_type": "markdown",
   "metadata": {},
   "source": []
  },
  {
   "cell_type": "markdown",
   "metadata": {},
   "source": [
    "# Identify the experimental factors and convert to tidy format\n",
    "\n",
    "**Question**: How would you calculate the mean and standard deviation of the trichome counts per person? Is it easy to do?  \n",
    "\n",
    "**Question**: what are other potential problems with this dataset? What columns need to be changed?\n",
    "\n",
    "**Question**: how would the corresponding tidy dataset look like?"
   ]
  },
  {
   "cell_type": "markdown",
   "metadata": {},
   "source": [
    "## First operation on the genotype column\n",
    "First let's separate the genotype column into a genotype and a biological replicate column.  \n",
    "We will use the `separate` function from the `tidyr` package to do so."
   ]
  },
  {
   "cell_type": "code",
   "execution_count": 64,
   "metadata": {},
   "outputs": [
    {
     "data": {
      "text/html": [
       "<table>\n",
       "<thead><tr><th scope=col>genotype</th><th scope=col>replicate</th><th scope=col>scientist</th><th scope=col>upper</th><th scope=col>lower</th></tr></thead>\n",
       "<tbody>\n",
       "\t<tr><td>wt       </td><td>1        </td><td>petra    </td><td>116.67466</td><td>126.47645</td></tr>\n",
       "\t<tr><td>wt       </td><td>2        </td><td>petra    </td><td> 94.47904</td><td> 95.45805</td></tr>\n",
       "\t<tr><td>wt       </td><td>3        </td><td>petra    </td><td> 92.89996</td><td>119.28633</td></tr>\n",
       "\t<tr><td>wt       </td><td>4        </td><td>petra    </td><td>101.74975</td><td>110.83123</td></tr>\n",
       "\t<tr><td>wt       </td><td>5        </td><td>petra    </td><td>145.04511</td><td>152.43185</td></tr>\n",
       "\t<tr><td>wt       </td><td>6        </td><td>peter    </td><td>116.68920</td><td>146.23790</td></tr>\n",
       "</tbody>\n",
       "</table>\n"
      ],
      "text/latex": [
       "\\begin{tabular}{r|lllll}\n",
       " genotype & replicate & scientist & upper & lower\\\\\n",
       "\\hline\n",
       "\t wt        & 1         & petra     & 116.67466 & 126.47645\\\\\n",
       "\t wt        & 2         & petra     &  94.47904 &  95.45805\\\\\n",
       "\t wt        & 3         & petra     &  92.89996 & 119.28633\\\\\n",
       "\t wt        & 4         & petra     & 101.74975 & 110.83123\\\\\n",
       "\t wt        & 5         & petra     & 145.04511 & 152.43185\\\\\n",
       "\t wt        & 6         & peter     & 116.68920 & 146.23790\\\\\n",
       "\\end{tabular}\n"
      ],
      "text/markdown": [
       "\n",
       "genotype | replicate | scientist | upper | lower | \n",
       "|---|---|---|---|---|---|\n",
       "| wt        | 1         | petra     | 116.67466 | 126.47645 | \n",
       "| wt        | 2         | petra     |  94.47904 |  95.45805 | \n",
       "| wt        | 3         | petra     |  92.89996 | 119.28633 | \n",
       "| wt        | 4         | petra     | 101.74975 | 110.83123 | \n",
       "| wt        | 5         | petra     | 145.04511 | 152.43185 | \n",
       "| wt        | 6         | peter     | 116.68920 | 146.23790 | \n",
       "\n",
       "\n"
      ],
      "text/plain": [
       "  genotype replicate scientist upper     lower    \n",
       "1 wt       1         petra     116.67466 126.47645\n",
       "2 wt       2         petra      94.47904  95.45805\n",
       "3 wt       3         petra      92.89996 119.28633\n",
       "4 wt       4         petra     101.74975 110.83123\n",
       "5 wt       5         petra     145.04511 152.43185\n",
       "6 wt       6         peter     116.68920 146.23790"
      ]
     },
     "metadata": {},
     "output_type": "display_data"
    }
   ],
   "source": [
    "df.parsed = separate(data = df,col = genotype,into = c(\"genotype\",\"replicate\"))\n",
    "# let's see how it looks\n",
    "head(df.parsed)"
   ]
  },
  {
   "cell_type": "markdown",
   "metadata": {},
   "source": [
    "## Creating a new variable\n",
    "Then let's reshape the dataframe so that `upper` and `lower` column are transformed into rows.  \n",
    "They are indeed experimental variables corresponding to the __side of the leaf__ and should have their own column according to the tidy principle. "
   ]
  },
  {
   "cell_type": "code",
   "execution_count": 65,
   "metadata": {},
   "outputs": [
    {
     "data": {
      "text/html": [
       "<table>\n",
       "<thead><tr><th scope=col>genotype</th><th scope=col>replicate</th><th scope=col>scientist</th><th scope=col>side</th><th scope=col>counts</th></tr></thead>\n",
       "<tbody>\n",
       "\t<tr><td>wt       </td><td>1        </td><td>petra    </td><td>upper    </td><td>116.67466</td></tr>\n",
       "\t<tr><td>wt       </td><td>2        </td><td>petra    </td><td>upper    </td><td> 94.47904</td></tr>\n",
       "\t<tr><td>wt       </td><td>3        </td><td>petra    </td><td>upper    </td><td> 92.89996</td></tr>\n",
       "\t<tr><td>wt       </td><td>4        </td><td>petra    </td><td>upper    </td><td>101.74975</td></tr>\n",
       "\t<tr><td>wt       </td><td>5        </td><td>petra    </td><td>upper    </td><td>145.04511</td></tr>\n",
       "\t<tr><td>wt       </td><td>6        </td><td>peter    </td><td>upper    </td><td>116.68920</td></tr>\n",
       "</tbody>\n",
       "</table>\n"
      ],
      "text/latex": [
       "\\begin{tabular}{r|lllll}\n",
       " genotype & replicate & scientist & side & counts\\\\\n",
       "\\hline\n",
       "\t wt        & 1         & petra     & upper     & 116.67466\\\\\n",
       "\t wt        & 2         & petra     & upper     &  94.47904\\\\\n",
       "\t wt        & 3         & petra     & upper     &  92.89996\\\\\n",
       "\t wt        & 4         & petra     & upper     & 101.74975\\\\\n",
       "\t wt        & 5         & petra     & upper     & 145.04511\\\\\n",
       "\t wt        & 6         & peter     & upper     & 116.68920\\\\\n",
       "\\end{tabular}\n"
      ],
      "text/markdown": [
       "\n",
       "genotype | replicate | scientist | side | counts | \n",
       "|---|---|---|---|---|---|\n",
       "| wt        | 1         | petra     | upper     | 116.67466 | \n",
       "| wt        | 2         | petra     | upper     |  94.47904 | \n",
       "| wt        | 3         | petra     | upper     |  92.89996 | \n",
       "| wt        | 4         | petra     | upper     | 101.74975 | \n",
       "| wt        | 5         | petra     | upper     | 145.04511 | \n",
       "| wt        | 6         | peter     | upper     | 116.68920 | \n",
       "\n",
       "\n"
      ],
      "text/plain": [
       "  genotype replicate scientist side  counts   \n",
       "1 wt       1         petra     upper 116.67466\n",
       "2 wt       2         petra     upper  94.47904\n",
       "3 wt       3         petra     upper  92.89996\n",
       "4 wt       4         petra     upper 101.74975\n",
       "5 wt       5         petra     upper 145.04511\n",
       "6 wt       6         peter     upper 116.68920"
      ]
     },
     "metadata": {},
     "output_type": "display_data"
    }
   ],
   "source": [
    "# let's make this tidy!\n",
    "df.tidy = gather(\n",
    "    data = df.parsed,\n",
    "    key = \"side\",      # we define a new variable\n",
    "    value = counts,    # we give a name to the column that will contain the observation values\n",
    "    -genotype,-replicate,-scientist) # tells to leave these variables out since they are already well defined\n",
    "head(df.tidy)"
   ]
  },
  {
   "cell_type": "markdown",
   "metadata": {},
   "source": [
    "Ok so now each variable has its own column.  \n",
    "Each observation has its own row.  \n",
    "**It is tidy!**"
   ]
  },
  {
   "cell_type": "markdown",
   "metadata": {},
   "source": [
    "# Data exploration\n",
    "\n",
    "## Counts = f(genotype)\n",
    "Are the trichome counts dependent on the genotype variable?"
   ]
  },
  {
   "cell_type": "code",
   "execution_count": 66,
   "metadata": {},
   "outputs": [
    {
     "data": {},
     "metadata": {},
     "output_type": "display_data"
    },
    {
     "data": {
      "image/png": "[encoded data removed]",
      "text/plain": [
       "plot without title"
      ]
     },
     "metadata": {},
     "output_type": "display_data"
    }
   ],
   "source": [
    "# Change plot size to 4 x 3\n",
    "options(repr.plot.width=4, repr.plot.height=3)\n",
    "\n",
    "ggplot(df.tidy,mapping = aes(x = genotype,y=counts)) +\n",
    "geom_point() +\n",
    "geom_boxplot()"
   ]
  },
  {
   "cell_type": "code",
   "execution_count": 67,
   "metadata": {},
   "outputs": [
    {
     "data": {},
     "metadata": {},
     "output_type": "display_data"
    },
    {
     "data": {
      "image/png": "[encoded data removed]",
      "text/plain": [
       "plot without title"
      ]
     },
     "metadata": {},
     "output_type": "display_data"
    }
   ],
   "source": [
    "# we can also add some colors to make it look nicer\n",
    "ggplot(df.tidy,mapping = aes(x = genotype,y=counts,fill=genotype)) +\n",
    "geom_point() +\n",
    "geom_boxplot()"
   ]
  },
  {
   "cell_type": "markdown",
   "metadata": {},
   "source": [
    "## Counts = f(genotype,side)\n",
    "\n",
    "It seems that the genotype is very important for trichome counts. But we might have omitted the leaf side as an explanatory variable. Let's plot it too."
   ]
  },
  {
   "cell_type": "code",
   "execution_count": 68,
   "metadata": {},
   "outputs": [
    {
     "data": {},
     "metadata": {},
     "output_type": "display_data"
    },
    {
     "data": {
      "image/png": "[encoded data removed]",
      "text/plain": [
       "plot without title"
      ]
     },
     "metadata": {},
     "output_type": "display_data"
    }
   ],
   "source": [
    "# we facet the plot so that it separates the upper and lower leaf side\n",
    "ggplot(df.tidy,mapping = aes(x = genotype,y=counts,fill=genotype)) +\n",
    "geom_point() +\n",
    "geom_boxplot() + \n",
    "facet_wrap(. ~ side)"
   ]
  },
  {
   "cell_type": "markdown",
   "metadata": {},
   "source": [
    "# ANOVA\n",
    "\n",
    "**Question**: what would you test ?"
   ]
  },
  {
   "cell_type": "markdown",
   "metadata": {},
   "source": [
    "## Genotype\n",
    "\n",
    "Let's test the effect of the genotype as it seems that it has the most important effect. \n",
    "\n",
    "The ANOVA compares the means of trichome counts among the different genotypes. Then checks if differences are statistically significant. Here are my null and alternative hypothesis:\n",
    "- H0: all genotypes have the same number of trichomes. \n",
    "- H1: not all genotypes have the same number of trichomes. "
   ]
  },
  {
   "cell_type": "code",
   "execution_count": 73,
   "metadata": {},
   "outputs": [
    {
     "data": {
      "text/plain": [
       "Call:\n",
       "   aov(formula = counts ~ genotype, data = df.tidy)\n",
       "\n",
       "Terms:\n",
       "                genotype Residuals\n",
       "Sum of Squares   4402761    642642\n",
       "Deg. of Freedom        2        57\n",
       "\n",
       "Residual standard error: 106.1811\n",
       "Estimated effects may be unbalanced"
      ]
     },
     "metadata": {},
     "output_type": "display_data"
    }
   ],
   "source": [
    "aov_genotype = aov(formula = counts ~ genotype,data = df.tidy)\n",
    "suaov_genotype"
   ]
  },
  {
   "cell_type": "code",
   "execution_count": 72,
   "metadata": {},
   "outputs": [],
   "source": [
    "?aov"
   ]
  },
  {
   "cell_type": "code",
   "execution_count": null,
   "metadata": {},
   "outputs": [],
   "source": []
  }
 ],
 "metadata": {
  "kernelspec": {
   "display_name": "R",
   "language": "R",
   "name": "ir"
  },
  "language_info": {
   "codemirror_mode": "r",
   "file_extension": ".r",
   "mimetype": "text/x-r-source",
   "name": "R",
   "pygments_lexer": "r",
   "version": "3.5.1"
  }
 },
 "nbformat": 4,
 "nbformat_minor": 2
}
