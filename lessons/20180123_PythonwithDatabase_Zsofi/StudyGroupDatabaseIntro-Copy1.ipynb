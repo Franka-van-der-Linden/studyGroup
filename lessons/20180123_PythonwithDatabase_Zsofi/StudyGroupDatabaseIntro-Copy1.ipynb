{
 "cells": [
  {
   "cell_type": "markdown",
   "metadata": {},
   "source": []
  },
  {
   "cell_type": "markdown",
   "metadata": {
    "collapsed": true
   },
   "source": [
    "## 1. Why Databases?"
   ]
  },
  {
   "cell_type": "markdown",
   "metadata": {},
   "source": [
    "- Aim : get a short introduction into using databases and using databases with python\n",
    "\n",
    "- Dutch Vegetation Database\n",
    "\n",
    "![](https://github.com/komazsofi/usingdatabases/blob/master/figures/db.PNG?raw=true)\n",
    "\n",
    "- Tasks: \n",
    "\t* ask all the observation which was observed on a selected location\n",
    "\t* calculate species richness\n",
    "\t* find all the information where English oak (Quercus robur) is presented\n",
    "\t* how many observation per habitats is exist\n"
   ]
  },
  {
   "cell_type": "markdown",
   "metadata": {},
   "source": [
    "## 2. Basic SQL queries (PostgreSQL - pgAdmin)"
   ]
  },
  {
   "cell_type": "markdown",
   "metadata": {},
   "source": [
    "- ask all the observation which was observed on a selected location\n",
    "\n",
    "\n",
    "- calculate species richness\n",
    "\n",
    "\n",
    "- find all the information where English oak (Quercus robur) is presented\n",
    "\n",
    "\n",
    "- how many observation per habitats is exist\n",
    "\n"
   ]
  },
  {
   "cell_type": "markdown",
   "metadata": {},
   "source": [
    "## 3. How to handle a database within python?"
   ]
  },
  {
   "cell_type": "markdown",
   "metadata": {},
   "source": [
    "### Basic code to use database from python (how to downloand the data from database)"
   ]
  },
  {
   "cell_type": "code",
   "execution_count": 1,
   "metadata": {},
   "outputs": [
    {
     "name": "stdout",
     "output_type": "stream",
     "text": [
      "38\n"
     ]
    }
   ],
   "source": [
    "import psycopg2 as dbapi2\n",
    "import numpy as np\n",
    "import pandas as pd\n",
    "\n",
    "db = dbapi2.connect(host=\"localhost\", database=\"postgres\", user=\"user\", password=\"local\")\n",
    "cur = db.cursor()\n",
    "cur.execute(\"select * from observation where observation.polygonid=100\");\n",
    "result = cur.fetchall()\n",
    "cur.close()\n",
    "db.close()\n",
    "\n",
    "print(len(result))\n",
    "print(result)"
   ]
  },
  {
   "cell_type": "markdown",
   "metadata": {},
   "source": [
    "### List to numpy array"
   ]
  },
  {
   "cell_type": "code",
   "execution_count": 3,
   "metadata": {},
   "outputs": [
    {
     "name": "stdout",
     "output_type": "stream",
     "text": [
      "[(100, 9220780, 2011, 1.0), (100, 2705308, 2011, 1.0), (100, 7760886, 2011, 1.0), (100, 7924597, 2011, 1.0), (100, 2704922, 2011, 1.0), (100, 5369652, 2011, 1.0), (100, 2926557, 2011, 1.0), (100, 8351737, 2011, 1.0), (100, 3034830, 2011, 1.0), (100, 2706164, 2011, 1.0), (100, 5371742, 2011, 1.0), (100, 3134857, 2011, 1.0), (100, 5384795, 2011, 1.0), (100, 5341170, 2011, 1.0), (100, 5290149, 2011, 1.0), (100, 8208358, 2011, 1.0), (100, 8300875, 2011, 1.0), (100, 2704505, 2011, 1.0), (100, 3033363, 2011, 1.0), (100, 2995209, 2011, 1.0), (100, 8195144, 2011, 1.0), (100, 3034620, 2011, 1.0), (100, 5384604, 2011, 1.0), (100, 7960979, 2011, 1.0), (100, 2888763, 2011, 1.0), (100, 3172048, 2011, 1.0), (100, 2703777, 2011, 1.0), (100, 2703647, 2011, 1.0), (100, 3189870, 2011, 1.0), (100, 3189870, 2011, 1.0), (100, 3189870, 2011, 1.0), (100, 3046258, 2011, 1.0), (100, 2679898, 2011, 1.0), (100, 5281901, 2011, 1.0), (100, 6364031, 2011, 1.0), (100, 7792960, 2011, 1.0), (100, 2876213, 2011, 1.0), (100, 9220780, 2011, 1.0)]\n",
      "[[  1.00000000e+02   9.22078000e+06   2.01100000e+03   1.00000000e+00]\n",
      " [  1.00000000e+02   2.70530800e+06   2.01100000e+03   1.00000000e+00]\n",
      " [  1.00000000e+02   7.76088600e+06   2.01100000e+03   1.00000000e+00]\n",
      " [  1.00000000e+02   7.92459700e+06   2.01100000e+03   1.00000000e+00]\n",
      " [  1.00000000e+02   2.70492200e+06   2.01100000e+03   1.00000000e+00]\n",
      " [  1.00000000e+02   5.36965200e+06   2.01100000e+03   1.00000000e+00]\n",
      " [  1.00000000e+02   2.92655700e+06   2.01100000e+03   1.00000000e+00]\n",
      " [  1.00000000e+02   8.35173700e+06   2.01100000e+03   1.00000000e+00]\n",
      " [  1.00000000e+02   3.03483000e+06   2.01100000e+03   1.00000000e+00]\n",
      " [  1.00000000e+02   2.70616400e+06   2.01100000e+03   1.00000000e+00]\n",
      " [  1.00000000e+02   5.37174200e+06   2.01100000e+03   1.00000000e+00]\n",
      " [  1.00000000e+02   3.13485700e+06   2.01100000e+03   1.00000000e+00]\n",
      " [  1.00000000e+02   5.38479500e+06   2.01100000e+03   1.00000000e+00]\n",
      " [  1.00000000e+02   5.34117000e+06   2.01100000e+03   1.00000000e+00]\n",
      " [  1.00000000e+02   5.29014900e+06   2.01100000e+03   1.00000000e+00]\n",
      " [  1.00000000e+02   8.20835800e+06   2.01100000e+03   1.00000000e+00]\n",
      " [  1.00000000e+02   8.30087500e+06   2.01100000e+03   1.00000000e+00]\n",
      " [  1.00000000e+02   2.70450500e+06   2.01100000e+03   1.00000000e+00]\n",
      " [  1.00000000e+02   3.03336300e+06   2.01100000e+03   1.00000000e+00]\n",
      " [  1.00000000e+02   2.99520900e+06   2.01100000e+03   1.00000000e+00]\n",
      " [  1.00000000e+02   8.19514400e+06   2.01100000e+03   1.00000000e+00]\n",
      " [  1.00000000e+02   3.03462000e+06   2.01100000e+03   1.00000000e+00]\n",
      " [  1.00000000e+02   5.38460400e+06   2.01100000e+03   1.00000000e+00]\n",
      " [  1.00000000e+02   7.96097900e+06   2.01100000e+03   1.00000000e+00]\n",
      " [  1.00000000e+02   2.88876300e+06   2.01100000e+03   1.00000000e+00]\n",
      " [  1.00000000e+02   3.17204800e+06   2.01100000e+03   1.00000000e+00]\n",
      " [  1.00000000e+02   2.70377700e+06   2.01100000e+03   1.00000000e+00]\n",
      " [  1.00000000e+02   2.70364700e+06   2.01100000e+03   1.00000000e+00]\n",
      " [  1.00000000e+02   3.18987000e+06   2.01100000e+03   1.00000000e+00]\n",
      " [  1.00000000e+02   3.18987000e+06   2.01100000e+03   1.00000000e+00]\n",
      " [  1.00000000e+02   3.18987000e+06   2.01100000e+03   1.00000000e+00]\n",
      " [  1.00000000e+02   3.04625800e+06   2.01100000e+03   1.00000000e+00]\n",
      " [  1.00000000e+02   2.67989800e+06   2.01100000e+03   1.00000000e+00]\n",
      " [  1.00000000e+02   5.28190100e+06   2.01100000e+03   1.00000000e+00]\n",
      " [  1.00000000e+02   6.36403100e+06   2.01100000e+03   1.00000000e+00]\n",
      " [  1.00000000e+02   7.79296000e+06   2.01100000e+03   1.00000000e+00]\n",
      " [  1.00000000e+02   2.87621300e+06   2.01100000e+03   1.00000000e+00]\n",
      " [  1.00000000e+02   9.22078000e+06   2.01100000e+03   1.00000000e+00]]\n"
     ]
    }
   ],
   "source": [
    "print(result)\n",
    "result_array=np.array(result)\n",
    "print(result_array)"
   ]
  },
  {
   "cell_type": "markdown",
   "metadata": {},
   "source": [
    "### Write a function!!!!"
   ]
  },
  {
   "cell_type": "code",
   "execution_count": null,
   "metadata": {
    "collapsed": true
   },
   "outputs": [],
   "source": []
  },
  {
   "cell_type": "markdown",
   "metadata": {},
   "source": [
    "## 4. Visualization\n",
    "\n",
    "### How many observation per habitats is exist --> visualize it!!!"
   ]
  },
  {
   "cell_type": "code",
   "execution_count": 4,
   "metadata": {},
   "outputs": [
    {
     "name": "stdout",
     "output_type": "stream",
     "text": [
      "[('Open water', 651L), ('Grassland (not salty)', 4974L), ('Forest', 2151L), ('Brushwood', 859L), ('Wet pionier environment', 488L), ('Dry disturbed environment', 751L), ('Saltmarch', 1711L), ('Heathland', 1155L), ('Marsh', 1353L), ('Fringes & tall forb vegetation', 1575L)]\n"
     ]
    }
   ],
   "source": [
    "db = dbapi2.connect(host=\"localhost\", database=\"postgres\", user=\"user\", password=\"local\")\n",
    "cur = db.cursor()\n",
    "cur.execute(\"select habitat, count(polygonid) from plot group by habitat\");\n",
    "habitat = cur.fetchall()\n",
    "cur.close()\n",
    "db.close()\n",
    "\n",
    "print(habitat)"
   ]
  },
  {
   "cell_type": "markdown",
   "metadata": {},
   "source": [
    "### Create a bar plot"
   ]
  },
  {
   "cell_type": "code",
   "execution_count": 10,
   "metadata": {},
   "outputs": [
    {
     "data": {
      "image/png": "[encoded data removed]",
      "text/plain": [
       "<matplotlib.figure.Figure at 0xce18400>"
      ]
     },
     "metadata": {},
     "output_type": "display_data"
    }
   ],
   "source": [
    "import matplotlib.pyplot as plt\n",
    "\n",
    "habitat_array=np.array(habitat)\n",
    "y_pos=np.arange(len((habitat_array[:,0])))\n",
    "\n",
    "plt.bar(y_pos,habitat_array[:,1].astype(np.float))\n",
    "plt.xticks(y_pos,habitat_array[:,0],rotation=\"vertical\")\n",
    "plt.show()\n",
    "\n"
   ]
  },
  {
   "cell_type": "code",
   "execution_count": 13,
   "metadata": {},
   "outputs": [
    {
     "name": "stdout",
     "output_type": "stream",
     "text": [
      "38\n"
     ]
    }
   ],
   "source": [
    "sqlcommand=\"select * from observation where observation.polygonid=100\"\n",
    "\n",
    "def connectiondb(sqlcommand,host=\"localhost\", database=\"postgres\", user=\"user\", password=\"local\"):\n",
    "    db = dbapi2.connect(host=host, database=database, user=user, password=password)\n",
    "    cur = db.cursor()\n",
    "    cur.execute(sqlcommand);\n",
    "    result = cur.fetchall()\n",
    "    cur.close()\n",
    "    db.close()\n",
    "    return np.array(result)\n",
    "\n",
    "result=connectiondb(sqlcommand)\n",
    "\n",
    "print(len(result))"
   ]
  },
  {
   "cell_type": "code",
   "execution_count": null,
   "metadata": {
    "collapsed": true
   },
   "outputs": [],
   "source": []
  }
 ],
 "metadata": {
  "kernelspec": {
   "display_name": "Python 2",
   "language": "python",
   "name": "python2"
  },
  "language_info": {
   "codemirror_mode": {
    "name": "ipython",
    "version": 2
   },
   "file_extension": ".py",
   "mimetype": "text/x-python",
   "name": "python",
   "nbconvert_exporter": "python",
   "pygments_lexer": "ipython2",
   "version": "2.7.14"
  }
 },
 "nbformat": 4,
 "nbformat_minor": 1
}
