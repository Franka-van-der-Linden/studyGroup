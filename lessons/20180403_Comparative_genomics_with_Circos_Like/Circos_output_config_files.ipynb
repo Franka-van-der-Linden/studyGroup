{
 "cells": [
  {
   "cell_type": "markdown",
   "metadata": {},
   "source": [
    "### Change name  and location of the output file : config files\n",
    "This is a short sidetrack from the Circos_demo notebook. Here we try to put the change where Circos saves it's output in the cofnig file. You can learn a bit more on config files by going through this sidetrack.   \n",
    "  \n",
    "  \n",
    "We can tell that Circos saved the plot in two formats (svg and png) in the directory from which we run this notebook (./). It is better to save the output somewhere else, namely in the output directory we created. We can specify the desired output location and name of the file on the commandline with `-outputdir /path/to/your/output/directory` and `-outputfile yourimage.png`, but we can also specify this in the configfile, which I prefer, because then we have a log of which settings lead to which output.  \n",
    "\n",
    "After this, the file becomes:\n",
    "\n",
    "    1:  # Fo_vs_Fg.circos.conf.\n",
    "    2:  \n",
    "    3:  karyotype = circos/input/karyotypes/Fg_PH1.karyotype.txt, circos/input/karyotypes/Fol4287.karyotype.txt\n",
    "    4:  \n",
    "    5:  <ideogram>\n",
    "    6:  \n",
    "    7:  <spacing\\>\n",
    "    8:  default = 0.005r\n",
    "    9:  </spacing\\>\n",
    "    10:  \n",
    "    11: radius    = 0.9r  \n",
    "    12: thickness = 20p  \n",
    "    13: fill      = yes  \n",
    "    14: \n",
    "    15: show_label     = yes\n",
    "    16: label_radius   = dims(ideogram,radius_outer) + 10p\n",
    "    17: label_font     = default\n",
    "    18: label_size     = 24p\n",
    "    19: label_parallel = yes\n",
    "    20: <ideogram\\>\n",
    "    21:    \n",
    "    22: ################################################################    \n",
    "    23: # The remaining content is standard and required. It is imported   \n",
    "    24: # from default files in the Circos distribution.  \n",
    "    25: #  \n",
    "    26: # These should be present in every Circos configuration file and  \n",
    "    27: # overridden as required. To see the content of these files,   \n",
    "    28: # look in etc/ in the Circos distribution.  \n",
    "    29:   \n",
    "    30: <image\\>  \n",
    "    31: # Included from Circos distribution.  \n",
    "    32: dir  = output/\n",
    "    33: file = circos_karyotype_with_labels.png\n",
    "    34:\n",
    "    35: <include etc/image.conf>>  \n",
    "    36: </image>  \n",
    "    37:   \n",
    "    36: # RGB/HSV color definitions, color lists, location of fonts, fill patterns.  \n",
    "    37: # Included from Circos distribution.  \n",
    "    38: <<include etc/colors_fonts_patterns.conf>>  \n",
    "    39:     \n",
    "    40: # Debugging, I/O an dother system parameters  \n",
    "    41: # Included from Circos distribution.  \n",
    "    42: <<include etc/housekeeping.conf>>  \n",
    " \n"
   ]
  },
  {
   "cell_type": "code",
   "execution_count": 3,
   "metadata": {},
   "outputs": [
    {
     "name": "stdout",
     "output_type": "stream",
     "text": [
      "debuggroup summary 0.14s welcome to circos v0.69-6 31 July 2017 on Perl 5.018002\n",
      "debuggroup summary 0.14s current working directory /Users/like/Dropbox/00.Projects/CircosPlot_FgFo\n",
      "debuggroup summary 0.14s command /Applications/circos-0.69-6/bin/circos -conf circos/input/config_files/Fo_vs_Fg.circos.specify_output.conf\n",
      "debuggroup summary 0.14s loading configuration from file circos/input/config_files/Fo_vs_Fg.circos.specify_output.conf\n",
      "debuggroup summary 0.14s found conf file circos/input/config_files/Fo_vs_Fg.circos.specify_output.conf\n",
      "$VAR1 = {\n",
      "          angle_offset => '-90',\n",
      "          auto_alpha_colors => 1,\n",
      "          auto_alpha_steps => '5',\n",
      "          background => 'white',\n",
      "          dir => [\n",
      "                   './circos/output',\n",
      "                   'output/'\n",
      "                 ],\n",
      "          file => [\n",
      "                    'circos_karyotype_with_labels.png',\n",
      "                    'circos_karyotype_with_labels.png'\n",
      "                  ],\n",
      "          png => 1,\n",
      "          radius => '1500p',\n",
      "          svg => 1\n",
      "        };\n",
      "\n",
      "  *** CIRCOS ERROR ***\n",
      "\n",
      "      cwd: /Users/like/Dropbox/00.Projects/CircosPlot_FgFo\n",
      "\n",
      "      command: /Applications/circos-0.69-6/bin/circos -conf\n",
      "      circos/input/config_files/Fo_vs_Fg.circos.specify_output.conf\n",
      "\n",
      "  CONFIGURATION FILE ERROR\n",
      "\n",
      "  Configuration parameter [file] in parent block [image] has been defined more\n",
      "  than once in the block shown above, and has been interpreted as a list. This\n",
      "  is not allowed. Did you forget to comment out an old value of the parameter?\n",
      "\n",
      "  If you are having trouble debugging this error, first read the best practices\n",
      "  tutorial for helpful tips that address many common problems\n",
      "\n",
      "      http://www.circos.ca/documentation/tutorials/reference/best_practices\n",
      "\n",
      "  The debugging facility is helpful to figure out what's happening under the\n",
      "  hood\n",
      "\n",
      "      http://www.circos.ca/documentation/tutorials/configuration/debugging\n",
      "\n",
      "  If you're still stumped, get support in the Circos Google Group.\n",
      "\n",
      "      http://groups.google.com/group/circos-data-visualization\n",
      "\n",
      "  Please include this error, all your configuration, data files and the version\n",
      "  of Circos you're running (circos -v).Do not email me directly -- please use\n",
      "  the group.\n",
      "\n",
      "  Stack trace:\n"
     ]
    },
    {
     "name": "stderr",
     "output_type": "stream",
     "text": [
      " at /Applications/circos-0.69-6/bin/../lib/Circos/Error.pm line 425.\n",
      "\tCircos::Error::fatal_error('configuration', 'multivalue', 'file', 'image') called at /Applications/circos-0.69-6/bin/../lib/Circos/Configuration.pm line 441\n",
      "\tCircos::Configuration::check_multivalues('HASH(0x7f95864e53b8)', 'image', 1) called at /Applications/circos-0.69-6/bin/../lib/Circos/Configuration.pm line 450\n",
      "\tCircos::Configuration::check_multivalues('HASH(0x7f9586a6f4a0)', undef) called at /Applications/circos-0.69-6/bin/../lib/Circos/Configuration.pm line 294\n",
      "\tCircos::Configuration::populateconfiguration('_cwd', '/Users/like/Dropbox/00.Projects/CircosPlot_FgFo', '_argv', '-conf circos/input/config_files/Fo_vs_Fg.circos.specify_outpu...', 'debug_group', 'output,summary', 'configfile', 'circos/input/config_files/Fo_vs_Fg.circos.specify_output.conf') called at /Applications/circos-0.69-6/bin/../lib/Circos.pm line 153\n",
      "\tCircos::run('Circos', 'configfile', 'circos/input/config_files/Fo_vs_Fg.circos.specify_output.conf', '_argv', '-conf circos/input/config_files/Fo_vs_Fg.circos.specify_outpu...', '_cwd', '/Users/like/Dropbox/00.Projects/CircosPlot_FgFo') called at /Applications/circos-0.69-6/bin/circos line 536\n"
     ]
    }
   ],
   "source": [
    "%%bash\n",
    "/Applications/circos-0.69-6/bin/circos -conf circos/input/config_files/Fo_vs_Fg.circos.specify_output.conf "
   ]
  },
  {
   "cell_type": "markdown",
   "metadata": {},
   "source": [
    "Aha! An error!\n",
    "\n",
    "Errors are an excellent opportunity to better understand how a program really works. Let's read the error message, at some point it says:\n",
    "\n",
    "    Configuration parameter [file] in parent block [image] has been defined more\n",
    "    than once in the block shown above, and has been interpreted as a list. This\n",
    "    is not allowed. Did you forget to comment out an old value of the parameter?\n",
    "\n",
    "This tells us what went wrong. The configuration file is divided into blocks: e.g. `<ideogram>` (line 5 - 20), specifying the chromosomes, and then `<image>` (line 30 - 36).\n",
    "\n",
    "In this block (`parent block [image]`), we specified the name of output image (line 33):  \n",
    "`file = circos_karyotype_with_labels.png`): this is Configuration parameter [file]. This makes sense because it is the only thing we changed compared to the previous config file which worked fine.  \n",
    "\n",
    "Let's try to solve the problem:\n",
    "The `<image>` block also contains `<include etc/image.conf>>`, another configuration file. Circos has a main config file in which you can import (include) other config files, so that when you start making really complicated plots, you don't have a single enormous config file in which you have to search for the parameters you want adjust.\n",
    "In the directory/folder where you installed Circos (in my case `/Applications/circos-0.69-6/`) there is a folder `/etc` wich contain a file `image.conf`. Read this file:\n"
   ]
  },
  {
   "cell_type": "code",
   "execution_count": 2,
   "metadata": {},
   "outputs": [
    {
     "name": "stdout",
     "output_type": "stream",
     "text": [
      "<<include image.generic.conf>>\n",
      "<<include background.white.conf>>\n"
     ]
    }
   ],
   "source": [
    "%%bash\n",
    "less /Applications/circos-0.69-6/etc/image.conf"
   ]
  },
  {
   "cell_type": "markdown",
   "metadata": {},
   "source": [
    "So this file also import other files, let's have a look at those:"
   ]
  },
  {
   "cell_type": "code",
   "execution_count": 4,
   "metadata": {},
   "outputs": [
    {
     "name": "stdout",
     "output_type": "stream",
     "text": [
      "\n",
      "dir   = . \n",
      "#dir  = conf(configdir)\n",
      "file  = circos.png\n",
      "png   = yes\n",
      "svg   = yes\n",
      "\n",
      "# radius of inscribed circle in image\n",
      "radius         = 1500p\n",
      "\n",
      "# by default angle=0 is at 3 o'clock position\n",
      "angle_offset      = -90\n",
      "\n",
      "#angle_orientation = counterclockwise\n",
      "\n",
      "auto_alpha_colors = yes\n",
      "auto_alpha_steps  = 5\n"
     ]
    }
   ],
   "source": [
    "%%bash\n",
    "less /Applications/circos-0.69-6/etc/image.generic.conf"
   ]
  },
  {
   "cell_type": "markdown",
   "metadata": {},
   "source": [
    "Here we see that `dir` and `file` are already defined. We give Circos two options and the program will not choose. If we look back at the error message we see:  \n",
    "\n",
    "    dir => [\n",
    "             '.',\n",
    "             'output/'\n",
    "           ],\n",
    "                 \n",
    "    file => [\n",
    "              'circos.png',\n",
    "              'circos_karyotype_with_labels.png'\n",
    "            ],\n",
    "\n",
    "So we see that indeed Circos has two options here, the one specified in our config file `circos/input/config_files/Fo_vs_Fg.circos.conf` and one specified in `/Applications/circos-0.69-6/etc/image.generic.conf`. Let's make a new file `image.generic.Fo_vs_Fg.conf` that we will include in our config file.  \n"
   ]
  },
  {
   "cell_type": "code",
   "execution_count": null,
   "metadata": {
    "collapsed": true
   },
   "outputs": [],
   "source": [
    "%%bash\n",
    "cp /Applications/circos-0.69-6/etc/image.generic.conf ./circos/input/config_files/"
   ]
  },
  {
   "cell_type": "markdown",
   "metadata": {},
   "source": [
    "Open these files in a text editor and change the following:  \n",
    "In `image.generic.conf`\n",
    "change  \n",
    "\n",
    "    dir   = .  \n",
    "into  \n",
    "\n",
    "    dir   = ./circos/output  \n",
    "  \n",
    "and  \n",
    "\n",
    "    file  = circos.png\n",
    "into  \n",
    "\n",
    "    file  = circos_karyotype_with_labels.png\n",
    "\n",
    "We don't need to change anything more. Circos first looks for files you've specified to include (such as `image.generic.conf`) in the folder (or folders below) the one from which you run Circos (in this this is the working directory). So Circos automatically takes the `image.generic.conf` in the working directory and ignores the one in `/etc` ( it only look s for that one if it can't find an include config file in or below the folder it is run from). \n",
    "\n",
    "However, you should realize that it can be rather unclear for other users if you use the same file name. I prefer to rename `image.generic.conf` to something that is specific for this project, rather have my future self or someone else figure out where Circos looks for configfiles first, etc.\n"
   ]
  },
  {
   "cell_type": "code",
   "execution_count": 7,
   "metadata": {
    "collapsed": true
   },
   "outputs": [],
   "source": [
    "%%bash \n",
    "mv ./circos/input/config_files/image.generic.conf ./circos/input/config_files/image.generic.Fo_vs_Fg.conf\n",
    "cp /Applications/circos-0.69-6/etc/image.conf ./circos/input/config_files/image.Fo_vs_Fg.conf\n"
   ]
  },
  {
   "cell_type": "markdown",
   "metadata": {},
   "source": [
    "Open `image.conf`, include `image.generic.Fo_vs_Fg.conf` rather than `image.generic.conf`.\n"
   ]
  }
 ],
 "metadata": {
  "kernelspec": {
   "display_name": "Python 3",
   "language": "python",
   "name": "python3"
  },
  "language_info": {
   "codemirror_mode": {
    "name": "ipython",
    "version": 3
   },
   "file_extension": ".py",
   "mimetype": "text/x-python",
   "name": "python",
   "nbconvert_exporter": "python",
   "pygments_lexer": "ipython3",
   "version": "3.6.3"
  }
 },
 "nbformat": 4,
 "nbformat_minor": 2
}
