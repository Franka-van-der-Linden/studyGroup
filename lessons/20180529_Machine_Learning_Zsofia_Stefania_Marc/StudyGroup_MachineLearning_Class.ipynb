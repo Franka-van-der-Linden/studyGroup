{
 "cells": [
  {
   "cell_type": "markdown",
   "metadata": {},
   "source": [
    "# Machine Learning applications to a cancer dataset"
   ]
  },
  {
   "cell_type": "markdown",
   "metadata": {},
   "source": [
    "## Set-up"
   ]
  },
  {
   "cell_type": "code",
   "execution_count": 37,
   "metadata": {},
   "outputs": [
    {
     "name": "stdout",
     "output_type": "stream",
     "text": [
      "Using Anaconda API: https://api.anaconda.org\r\n",
      "\r\n",
      "CondaValueError: prefix already exists: /anaconda3/envs/machinelearning\r\n",
      "\r\n"
     ]
    }
   ],
   "source": [
    "## Set-up (run this only once)\n",
    "# installing all necessary modules \n",
    "# using the Conda package manager and an environment file\n",
    "!conda env create --name machinelearning --file environment.yaml"
   ]
  },
  {
   "cell_type": "code",
   "execution_count": 2,
   "metadata": {},
   "outputs": [],
   "source": [
    "# Import all the necessary packages (data handling, sklearn for carrying out supervised classification, visualisation)\n",
    "!source activate machinelearning\n",
    "\n",
    "# import necessary modules\n",
    "import numpy as np         \n",
    "import pandas as pd           # for dataframe manipulation\n",
    "import itertools\n",
    "\n",
    "from sklearn.ensemble import RandomForestClassifier\n",
    "from sklearn.model_selection import train_test_split  # to split the dataset into one train & one test sets\n",
    "from sklearn.metrics import confusion_matrix        # to calculate metrics on the trained classifier and see how well it perfoms on the test dataset\n",
    "from sklearn.metrics import accuracy_score,precision_score,recall_score # to calculate the accuracy of the trained classifier\n",
    "from sklearn.metrics import classification_report\n",
    "\n",
    "import matplotlib.pyplot as plt # for plots\n",
    "import seaborn as sns;           # for plots"
   ]
  },
  {
   "cell_type": "markdown",
   "metadata": {},
   "source": [
    "\n",
    "We have now installed and loaded the modules necessary for our analyses."
   ]
  },
  {
   "cell_type": "markdown",
   "metadata": {},
   "source": [
    "## Importation of the datasets\n",
    "The breast cancer dataset (`breast-cancer-wisconsin.csv`) has 11 columns and 699 rows.\n",
    "\n",
    "Column descriptions: \n",
    "\n",
    "\n",
    "\n",
    "| n° | attribute   |Domain|\n",
    "|------|------|------|\n",
    "|   1  | Sample number|id number |\n",
    "|   2  | Clump thickness|1-10|\n",
    "|   3  | Uniformity of Cell Size|1-10  |\n",
    "|   4  | Uniformity of Cell Shape|1-10  |\n",
    "|   5  | Marginal Adhesion |1-10  |\n",
    "|   6  | Single Epithelial Cell Size|1-10  |\n",
    "|   7  | Bare Nuclei   |1-10  |\n",
    "|   8  | Bland Chromatin |1-10  |\n",
    "|   9  | Normal Nucleoli |1-10  |\n",
    "|   10  | Mitoses |1-10  |\n",
    "|   11  | Class|2,4  |\n",
    "\n",
    "\n",
    "For the cancer class (column \"Class\"):\n",
    "- 2: benign cancer\n",
    "- 4: malignant cancer"
   ]
  },
  {
   "cell_type": "code",
   "execution_count": 16,
   "metadata": {},
   "outputs": [
    {
     "data": {
      "text/html": [
       "<div>\n",
       "<style>\n",
       "    .dataframe thead tr:only-child th {\n",
       "        text-align: right;\n",
       "    }\n",
       "\n",
       "    .dataframe thead th {\n",
       "        text-align: left;\n",
       "    }\n",
       "\n",
       "    .dataframe tbody tr th {\n",
       "        vertical-align: top;\n",
       "    }\n",
       "</style>\n",
       "<table border=\"1\" class=\"dataframe\">\n",
       "  <thead>\n",
       "    <tr style=\"text-align: right;\">\n",
       "      <th></th>\n",
       "      <th>CodeNumber</th>\n",
       "      <th>ClumpThickness</th>\n",
       "      <th>UniformityCellSize</th>\n",
       "      <th>UniformityCellShape</th>\n",
       "      <th>MarginalAdhesion</th>\n",
       "      <th>SingleEpithelialCellSize</th>\n",
       "      <th>BareNuclei</th>\n",
       "      <th>BlandChromatin</th>\n",
       "      <th>NormalNucleoli</th>\n",
       "      <th>Mitoses</th>\n",
       "      <th>CancerType</th>\n",
       "    </tr>\n",
       "  </thead>\n",
       "  <tbody>\n",
       "    <tr>\n",
       "      <th>0</th>\n",
       "      <td>1000025</td>\n",
       "      <td>5</td>\n",
       "      <td>1</td>\n",
       "      <td>1</td>\n",
       "      <td>1</td>\n",
       "      <td>2</td>\n",
       "      <td>1</td>\n",
       "      <td>3</td>\n",
       "      <td>1</td>\n",
       "      <td>1</td>\n",
       "      <td>2</td>\n",
       "    </tr>\n",
       "    <tr>\n",
       "      <th>1</th>\n",
       "      <td>1002945</td>\n",
       "      <td>5</td>\n",
       "      <td>4</td>\n",
       "      <td>4</td>\n",
       "      <td>5</td>\n",
       "      <td>7</td>\n",
       "      <td>10</td>\n",
       "      <td>3</td>\n",
       "      <td>2</td>\n",
       "      <td>1</td>\n",
       "      <td>2</td>\n",
       "    </tr>\n",
       "    <tr>\n",
       "      <th>2</th>\n",
       "      <td>1015425</td>\n",
       "      <td>3</td>\n",
       "      <td>1</td>\n",
       "      <td>1</td>\n",
       "      <td>1</td>\n",
       "      <td>2</td>\n",
       "      <td>2</td>\n",
       "      <td>3</td>\n",
       "      <td>1</td>\n",
       "      <td>1</td>\n",
       "      <td>2</td>\n",
       "    </tr>\n",
       "    <tr>\n",
       "      <th>3</th>\n",
       "      <td>1016277</td>\n",
       "      <td>6</td>\n",
       "      <td>8</td>\n",
       "      <td>8</td>\n",
       "      <td>1</td>\n",
       "      <td>3</td>\n",
       "      <td>4</td>\n",
       "      <td>3</td>\n",
       "      <td>7</td>\n",
       "      <td>1</td>\n",
       "      <td>2</td>\n",
       "    </tr>\n",
       "    <tr>\n",
       "      <th>4</th>\n",
       "      <td>1017023</td>\n",
       "      <td>4</td>\n",
       "      <td>1</td>\n",
       "      <td>1</td>\n",
       "      <td>3</td>\n",
       "      <td>2</td>\n",
       "      <td>1</td>\n",
       "      <td>3</td>\n",
       "      <td>1</td>\n",
       "      <td>1</td>\n",
       "      <td>2</td>\n",
       "    </tr>\n",
       "  </tbody>\n",
       "</table>\n",
       "</div>"
      ],
      "text/plain": [
       "   CodeNumber  ClumpThickness  UniformityCellSize  UniformityCellShape  \\\n",
       "0     1000025               5                   1                    1   \n",
       "1     1002945               5                   4                    4   \n",
       "2     1015425               3                   1                    1   \n",
       "3     1016277               6                   8                    8   \n",
       "4     1017023               4                   1                    1   \n",
       "\n",
       "   MarginalAdhesion  SingleEpithelialCellSize BareNuclei  BlandChromatin  \\\n",
       "0                 1                         2          1               3   \n",
       "1                 5                         7         10               3   \n",
       "2                 1                         2          2               3   \n",
       "3                 1                         3          4               3   \n",
       "4                 3                         2          1               3   \n",
       "\n",
       "   NormalNucleoli  Mitoses  CancerType  \n",
       "0               1        1           2  \n",
       "1               2        1           2  \n",
       "2               1        1           2  \n",
       "3               7        1           2  \n",
       "4               1        1           2  "
      ]
     },
     "execution_count": 16,
     "metadata": {},
     "output_type": "execute_result"
    }
   ],
   "source": [
    "# import dataset\n",
    "df = pd.read_csv(filepath_or_buffer=\"breast-cancer-wisconsin.csv\",header=None)\n",
    "\n",
    "# rename columns\n",
    "col_names = [\"CodeNumber\", \"ClumpThickness\", \"UniformityCellSize\", \"UniformityCellShape\", \"MarginalAdhesion\",\n",
    "               \"SingleEpithelialCellSize\", \"BareNuclei\",\"BlandChromatin\", \"NormalNucleoli\", \"Mitoses\",\n",
    "               \"CancerType\"]\n",
    "df.columns= col_names\n",
    "df.head()"
   ]
  },
  {
   "cell_type": "code",
   "execution_count": 17,
   "metadata": {},
   "outputs": [
    {
     "data": {
      "text/html": [
       "<div>\n",
       "<style>\n",
       "    .dataframe thead tr:only-child th {\n",
       "        text-align: right;\n",
       "    }\n",
       "\n",
       "    .dataframe thead th {\n",
       "        text-align: left;\n",
       "    }\n",
       "\n",
       "    .dataframe tbody tr th {\n",
       "        vertical-align: top;\n",
       "    }\n",
       "</style>\n",
       "<table border=\"1\" class=\"dataframe\">\n",
       "  <thead>\n",
       "    <tr style=\"text-align: right;\">\n",
       "      <th></th>\n",
       "      <th>CodeNumber</th>\n",
       "      <th>ClumpThickness</th>\n",
       "      <th>UniformityCellSize</th>\n",
       "      <th>UniformityCellShape</th>\n",
       "      <th>MarginalAdhesion</th>\n",
       "      <th>SingleEpithelialCellSize</th>\n",
       "      <th>BlandChromatin</th>\n",
       "      <th>NormalNucleoli</th>\n",
       "      <th>Mitoses</th>\n",
       "      <th>CancerType</th>\n",
       "    </tr>\n",
       "  </thead>\n",
       "  <tbody>\n",
       "    <tr>\n",
       "      <th>0</th>\n",
       "      <td>1000025</td>\n",
       "      <td>5</td>\n",
       "      <td>1</td>\n",
       "      <td>1</td>\n",
       "      <td>1</td>\n",
       "      <td>2</td>\n",
       "      <td>3</td>\n",
       "      <td>1</td>\n",
       "      <td>1</td>\n",
       "      <td>2</td>\n",
       "    </tr>\n",
       "    <tr>\n",
       "      <th>1</th>\n",
       "      <td>1002945</td>\n",
       "      <td>5</td>\n",
       "      <td>4</td>\n",
       "      <td>4</td>\n",
       "      <td>5</td>\n",
       "      <td>7</td>\n",
       "      <td>3</td>\n",
       "      <td>2</td>\n",
       "      <td>1</td>\n",
       "      <td>2</td>\n",
       "    </tr>\n",
       "    <tr>\n",
       "      <th>2</th>\n",
       "      <td>1015425</td>\n",
       "      <td>3</td>\n",
       "      <td>1</td>\n",
       "      <td>1</td>\n",
       "      <td>1</td>\n",
       "      <td>2</td>\n",
       "      <td>3</td>\n",
       "      <td>1</td>\n",
       "      <td>1</td>\n",
       "      <td>2</td>\n",
       "    </tr>\n",
       "    <tr>\n",
       "      <th>3</th>\n",
       "      <td>1016277</td>\n",
       "      <td>6</td>\n",
       "      <td>8</td>\n",
       "      <td>8</td>\n",
       "      <td>1</td>\n",
       "      <td>3</td>\n",
       "      <td>3</td>\n",
       "      <td>7</td>\n",
       "      <td>1</td>\n",
       "      <td>2</td>\n",
       "    </tr>\n",
       "    <tr>\n",
       "      <th>4</th>\n",
       "      <td>1017023</td>\n",
       "      <td>4</td>\n",
       "      <td>1</td>\n",
       "      <td>1</td>\n",
       "      <td>3</td>\n",
       "      <td>2</td>\n",
       "      <td>3</td>\n",
       "      <td>1</td>\n",
       "      <td>1</td>\n",
       "      <td>2</td>\n",
       "    </tr>\n",
       "  </tbody>\n",
       "</table>\n",
       "</div>"
      ],
      "text/plain": [
       "   CodeNumber  ClumpThickness  UniformityCellSize  UniformityCellShape  \\\n",
       "0     1000025               5                   1                    1   \n",
       "1     1002945               5                   4                    4   \n",
       "2     1015425               3                   1                    1   \n",
       "3     1016277               6                   8                    8   \n",
       "4     1017023               4                   1                    1   \n",
       "\n",
       "   MarginalAdhesion  SingleEpithelialCellSize  BlandChromatin  NormalNucleoli  \\\n",
       "0                 1                         2               3               1   \n",
       "1                 5                         7               3               2   \n",
       "2                 1                         2               3               1   \n",
       "3                 1                         3               3               7   \n",
       "4                 3                         2               3               1   \n",
       "\n",
       "   Mitoses  CancerType  \n",
       "0        1           2  \n",
       "1        1           2  \n",
       "2        1           2  \n",
       "3        1           2  \n",
       "4        1           2  "
      ]
     },
     "execution_count": 17,
     "metadata": {},
     "output_type": "execute_result"
    }
   ],
   "source": [
    "# drop the BareNuclei column (since it contains missing values coded as \"?\")\n",
    "del df[\"BareNuclei\"]\n",
    "df.head()\n",
    "  \n",
    "#iris = datasets.load_iris()\n",
    "#feature = iris.data[:, :2]  \n",
    "#label = iris.target\n",
    "\n",
    "# Split into training and testing\n",
    "\n",
    "#mytrain, mytest, mytrainlabel, mytestlabel = train_test_split(feature, label,train_size = 0.6)"
   ]
  },
  {
   "cell_type": "markdown",
   "metadata": {},
   "source": [
    "## Split the original data into a train and a test dataset\n",
    "We are now going to use our original dataset to:\n",
    "- train a Random Forest (RF) model\n",
    "- test our RF model on a test dataset.\n",
    "\n",
    "We are going to split our dataset (`breast-cancer-wisconsin`) into a train and a test dataset."
   ]
  },
  {
   "cell_type": "code",
   "execution_count": 21,
   "metadata": {},
   "outputs": [],
   "source": [
    "# specify the label (=y) variable (cancer class)\n",
    "label = df.CancerType\n",
    "\n",
    "# specify the features (=x) variables (measured variables)\n",
    "features = df.iloc[:,1:9]\n",
    "\n",
    "# Split dataset into a random train and test subsets\n",
    "# We need to indicate which subset corresponds to the features/variables and which column corresponds to the class we are trying to predict. \n",
    "# Finally, we also indicate the percentage of the dataset to include into the train split (proportion of samples used to train the model)\n",
    "train_x, test_x, train_y, test_y = train_test_split(features,label,train_size=0.7,test_size=0.3)"
   ]
  },
  {
   "cell_type": "code",
   "execution_count": 29,
   "metadata": {},
   "outputs": [
    {
     "name": "stdout",
     "output_type": "stream",
     "text": [
      "We have 489 samples in the train dataset \n",
      "We have 210 samples in the test dataset \n",
      "We have in total 699 in both train and test datasets\n"
     ]
    }
   ],
   "source": [
    "# Let's do some \"sanity checks\"\n",
    "print(\"We have \" + str(train_x.shape[0]) + \" samples in the train dataset \")\n",
    "print(\"We have \" + str(test_x.shape[0]) + \" samples in the test dataset \")\n",
    "sum_samples = train_x.shape[0] + test_x.shape[0]\n",
    "print(\"We have in total \" + str(sum_samples) + \" in both train and test datasets\")"
   ]
  },
  {
   "cell_type": "markdown",
   "metadata": {},
   "source": [
    "## Random Forest classifier\n",
    "\n",
    "### Training the classifier"
   ]
  },
  {
   "cell_type": "code",
   "execution_count": 30,
   "metadata": {
    "collapsed": true
   },
   "outputs": [],
   "source": [
    "# Set Random Forest parameters\n",
    "n_estimators=30\n",
    "criterion='gini'\n",
    "max_depth=30\n",
    "min_samples_split=5\n",
    "min_samples_leaf=5\n",
    "max_features='auto'\n",
    "max_leaf_nodes=None\n",
    "bootstrap=True\n",
    "oob_score=True\n",
    "n_jobs=1\n",
    "random_state=None\n",
    "verbose=0\n",
    "class_weight='balanced'\n",
    "\n",
    "# build the Random Forest classifier\n",
    "forest = RandomForestClassifier(n_estimators=n_estimators, criterion=criterion, max_depth=max_depth,\n",
    "                             min_samples_split=min_samples_split, min_samples_leaf=min_samples_leaf,\n",
    "                             max_features=max_features, max_leaf_nodes=max_leaf_nodes, bootstrap=bootstrap, oob_score=oob_score,\n",
    "                             n_jobs=n_jobs, random_state=random_state, verbose=verbose,class_weight=class_weight)\n",
    "\n",
    "# train the Random Forest classifier on our dataset\n",
    "RF_classifier = forest.fit(train_x, train_y)"
   ]
  },
  {
   "cell_type": "markdown",
   "metadata": {},
   "source": [
    "### Benchmarking the performance of the trained RF classifier on the test dataset"
   ]
  },
  {
   "cell_type": "code",
   "execution_count": 31,
   "metadata": {
    "scrolled": false
   },
   "outputs": [
    {
     "name": "stdout",
     "output_type": "stream",
     "text": [
      "             precision    recall  f1-score   support\n",
      "\n",
      "          2       0.98      0.94      0.96       134\n",
      "          4       0.90      0.97      0.94        76\n",
      "\n",
      "avg / total       0.95      0.95      0.95       210\n",
      "\n",
      "[[126   8]\n",
      " [  2  74]]\n"
     ]
    }
   ],
   "source": [
    "# Validation\n",
    "mypredtest=RF_classifier.predict(test_x)\n",
    "\n",
    "print(classification_report(test_y, mypredtest)) \n",
    "print(confusion_matrix(test_y, mypredtest))"
   ]
  },
  {
   "cell_type": "code",
   "execution_count": 32,
   "metadata": {},
   "outputs": [
    {
     "name": "stdout",
     "output_type": "stream",
     "text": [
      "Confusion matrix, without normalization\n",
      "[[126   8]\n",
      " [  2  74]]\n"
     ]
    },
    {
     "ename": "NameError",
     "evalue": "name 'itertools' is not defined",
     "output_type": "error",
     "traceback": [
      "\u001b[0;31m---------------------------------------------------------------------------\u001b[0m",
      "\u001b[0;31mNameError\u001b[0m                                 Traceback (most recent call last)",
      "\u001b[0;32m<ipython-input-32-bd0402735419>\u001b[0m in \u001b[0;36m<module>\u001b[0;34m()\u001b[0m\n\u001b[1;32m     42\u001b[0m \u001b[0;31m# Plot the non-normalised matrix\u001b[0m\u001b[0;34m\u001b[0m\u001b[0;34m\u001b[0m\u001b[0m\n\u001b[1;32m     43\u001b[0m \u001b[0mplt\u001b[0m\u001b[0;34m.\u001b[0m\u001b[0mfigure\u001b[0m\u001b[0;34m(\u001b[0m\u001b[0;34m)\u001b[0m\u001b[0;34m\u001b[0m\u001b[0m\n\u001b[0;32m---> 44\u001b[0;31m \u001b[0mplot_confusion_matrix\u001b[0m\u001b[0;34m(\u001b[0m\u001b[0mcnf_matrix\u001b[0m\u001b[0;34m,\u001b[0m\u001b[0mclasses\u001b[0m\u001b[0;34m=\u001b[0m\u001b[0mlabel\u001b[0m\u001b[0;34m,\u001b[0m\u001b[0mtitle\u001b[0m\u001b[0;34m=\u001b[0m\u001b[0;34m\"Confusion matrix\"\u001b[0m\u001b[0;34m)\u001b[0m\u001b[0;34m\u001b[0m\u001b[0m\n\u001b[0m\u001b[1;32m     45\u001b[0m \u001b[0mplt\u001b[0m\u001b[0;34m.\u001b[0m\u001b[0mshow\u001b[0m\u001b[0;34m(\u001b[0m\u001b[0;34m)\u001b[0m\u001b[0;34m\u001b[0m\u001b[0m\n",
      "\u001b[0;32m<ipython-input-32-bd0402735419>\u001b[0m in \u001b[0;36mplot_confusion_matrix\u001b[0;34m(cm, classes, normalize, title, cmap)\u001b[0m\n\u001b[1;32m     27\u001b[0m     \u001b[0mfmt\u001b[0m \u001b[0;34m=\u001b[0m \u001b[0;34m'.2f'\u001b[0m \u001b[0;32mif\u001b[0m \u001b[0mnormalize\u001b[0m \u001b[0;32melse\u001b[0m \u001b[0;34m'd'\u001b[0m\u001b[0;34m\u001b[0m\u001b[0m\n\u001b[1;32m     28\u001b[0m     \u001b[0mthresh\u001b[0m \u001b[0;34m=\u001b[0m \u001b[0mcm\u001b[0m\u001b[0;34m.\u001b[0m\u001b[0mmax\u001b[0m\u001b[0;34m(\u001b[0m\u001b[0;34m)\u001b[0m \u001b[0;34m/\u001b[0m \u001b[0;36m2.\u001b[0m\u001b[0;34m\u001b[0m\u001b[0m\n\u001b[0;32m---> 29\u001b[0;31m     \u001b[0;32mfor\u001b[0m \u001b[0mi\u001b[0m\u001b[0;34m,\u001b[0m \u001b[0mj\u001b[0m \u001b[0;32min\u001b[0m \u001b[0mitertools\u001b[0m\u001b[0;34m.\u001b[0m\u001b[0mproduct\u001b[0m\u001b[0;34m(\u001b[0m\u001b[0mrange\u001b[0m\u001b[0;34m(\u001b[0m\u001b[0mcm\u001b[0m\u001b[0;34m.\u001b[0m\u001b[0mshape\u001b[0m\u001b[0;34m[\u001b[0m\u001b[0;36m0\u001b[0m\u001b[0;34m]\u001b[0m\u001b[0;34m)\u001b[0m\u001b[0;34m,\u001b[0m \u001b[0mrange\u001b[0m\u001b[0;34m(\u001b[0m\u001b[0mcm\u001b[0m\u001b[0;34m.\u001b[0m\u001b[0mshape\u001b[0m\u001b[0;34m[\u001b[0m\u001b[0;36m1\u001b[0m\u001b[0;34m]\u001b[0m\u001b[0;34m)\u001b[0m\u001b[0;34m)\u001b[0m\u001b[0;34m:\u001b[0m\u001b[0;34m\u001b[0m\u001b[0m\n\u001b[0m\u001b[1;32m     30\u001b[0m         plt.text(j, i, format(cm[i, j], fmt),\n\u001b[1;32m     31\u001b[0m                  \u001b[0mhorizontalalignment\u001b[0m\u001b[0;34m=\u001b[0m\u001b[0;34m\"center\"\u001b[0m\u001b[0;34m,\u001b[0m\u001b[0;34m\u001b[0m\u001b[0m\n",
      "\u001b[0;31mNameError\u001b[0m: name 'itertools' is not defined"
     ]
    }
   ],
   "source": [
    "# Graphical representation of the confusion matrix\n",
    "\n",
    "# definition of a helper function (taken from http://scikit-learn.org/stable/auto_examples/model_selection/plot_confusion_matrix.html)\n",
    "def plot_confusion_matrix(cm, classes,\n",
    "                          normalize=False,\n",
    "                          title='Confusion matrix',\n",
    "                          cmap=plt.cm.Blues):\n",
    "    \"\"\"\n",
    "    This function prints and plots the confusion matrix.\n",
    "    Normalization can be applied by setting `normalize=True`. Normalisation computes results by dividing them by the class size.\n",
    "    \"\"\"\n",
    "    if normalize:\n",
    "        cm = cm.astype('float') / cm.sum(axis=1)[:, np.newaxis]\n",
    "        print(\"Normalized confusion matrix\")\n",
    "    else:\n",
    "        print('Confusion matrix, without normalization')\n",
    "\n",
    "    print(cm)\n",
    "\n",
    "    plt.imshow(cm, interpolation='nearest', cmap=cmap)\n",
    "    plt.title(title)\n",
    "    plt.colorbar()\n",
    "    tick_marks = np.arange(len(classes))\n",
    "    plt.xticks(tick_marks, classes, rotation=45)\n",
    "    plt.yticks(tick_marks, classes)\n",
    "\n",
    "    fmt = '.2f' if normalize else 'd'\n",
    "    thresh = cm.max() / 2.\n",
    "    for i, j in itertools.product(range(cm.shape[0]), range(cm.shape[1])):\n",
    "        plt.text(j, i, format(cm[i, j], fmt),\n",
    "                 horizontalalignment=\"center\",\n",
    "                 color=\"white\" if cm[i, j] > thresh else \"black\")\n",
    "\n",
    "    plt.tight_layout()\n",
    "    plt.ylabel('True label')\n",
    "    plt.xlabel('Predicted label')\n",
    "    \n",
    "# Computing the confusion matrix\n",
    "cnf_matrix = confusion_matrix(test_y, mypredtest)\n",
    "np.set_printoptions(precision=2) # to get only 2 digits\n",
    "\n",
    "# Plot the non-normalised matrix\n",
    "plt.figure()\n",
    "plot_confusion_matrix(cnf_matrix,classes=label,title=\"Confusion matrix\")\n",
    "plt.show()\n"
   ]
  },
  {
   "cell_type": "markdown",
   "metadata": {},
   "source": [
    "## Getting the best predictors of the cancer class (benign=2/malign=4)"
   ]
  },
  {
   "cell_type": "code",
   "execution_count": null,
   "metadata": {
    "collapsed": true
   },
   "outputs": [],
   "source": [
    "# Get feature importance\n",
    "\n",
    "importances=RF_classifier.feature_importances_\n",
    "indices = np.argsort(importances)[::-1]\n",
    "\n",
    "plt.figure()\n",
    "plt.title(\"Feature importances\")\n",
    "plt.bar(range(mytrain.shape[1]), importances[indices],\n",
    "       color=\"r\", align=\"center\")\n",
    "plt.xticks(range(mytrain.shape[1]), indices,rotation=45,horizontalalignment='right')\n",
    "plt.xlim([-1, mytrain.shape[1]])\n",
    "plt.tight_layout()\n",
    "plt.show()"
   ]
  },
  {
   "cell_type": "code",
   "execution_count": null,
   "metadata": {
    "collapsed": true
   },
   "outputs": [],
   "source": []
  }
 ],
 "metadata": {
  "kernelspec": {
   "display_name": "Python 3",
   "language": "python",
   "name": "python3"
  },
  "language_info": {
   "codemirror_mode": {
    "name": "ipython",
    "version": 3
   },
   "file_extension": ".py",
   "mimetype": "text/x-python",
   "name": "python",
   "nbconvert_exporter": "python",
   "pygments_lexer": "ipython3",
   "version": "3.6.2"
  }
 },
 "nbformat": 4,
 "nbformat_minor": 2
}
