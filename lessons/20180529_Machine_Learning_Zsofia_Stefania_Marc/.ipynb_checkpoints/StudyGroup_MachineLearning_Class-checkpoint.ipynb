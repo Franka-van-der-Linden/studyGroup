{
 "cells": [
  {
   "cell_type": "markdown",
   "metadata": {},
   "source": [
    "# Machine Learning applications to a cancer dataset"
   ]
  },
  {
   "cell_type": "markdown",
   "metadata": {},
   "source": [
    "## Set-up"
   ]
  },
  {
   "cell_type": "code",
<<<<<<< HEAD
   "execution_count": 37,
   "metadata": {},
   "outputs": [
    {
     "name": "stdout",
     "output_type": "stream",
     "text": [
      "Using Anaconda API: https://api.anaconda.org\r\n",
      "\r\n",
      "CondaValueError: prefix already exists: /anaconda3/envs/machinelearning\r\n",
      "\r\n"
     ]
    }
   ],
=======
   "execution_count": null,
   "metadata": {
    "collapsed": true
   },
   "outputs": [],
>>>>>>> 3e01fce88c7aad2b90acdbae2ef0bc29aabeb682
   "source": [
    "## Set-up (run this only once)\n",
    "# installing all necessary modules \n",
    "# using the Conda package manager and an environment file\n",
    "!conda env create --name machinelearning --file environment.yaml"
   ]
  },
  {
   "cell_type": "code",
<<<<<<< HEAD
   "execution_count": 2,
   "metadata": {},
=======
   "execution_count": 37,
   "metadata": {
    "collapsed": true
   },
>>>>>>> 3e01fce88c7aad2b90acdbae2ef0bc29aabeb682
   "outputs": [],
   "source": [
    "# Import all the necessary packages (data handling, sklearn for carrying out supervised classification, visualisation)\n",
    "!source activate machinelearning\n",
    "\n",
    "# import necessary modules\n",
    "import numpy as np         \n",
    "import pandas as pd           # for dataframe manipulation\n",
<<<<<<< HEAD
    "from sklearn import datasets  #\n",
=======
>>>>>>> 3e01fce88c7aad2b90acdbae2ef0bc29aabeb682
    "\n",
    "from sklearn.ensemble import RandomForestClassifier\n",
    "from sklearn.model_selection import train_test_split  # to split the dataset into one train & one test sets\n",
    "from sklearn.metrics import confusion_matrix        # to calculate metrics on the trained classifier and see how well it perfoms on the test dataset\n",
    "from sklearn.metrics import accuracy_score,precision_score,recall_score # to calculate the accuracy of the trained classifier\n",
    "from sklearn.metrics import classification_report\n",
    "\n",
    "import matplotlib.pyplot as plt # for plots\n",
    "import seaborn as sns;           # for plots"
   ]
  },
  {
   "cell_type": "markdown",
   "metadata": {},
   "source": [
    "\n",
    "We have now installed and loaded the modules necessary for our analyses."
   ]
  },
  {
   "cell_type": "markdown",
   "metadata": {},
   "source": [
    "## Importation of the datasets\n",
    "The breast cancer dataset (`breast-cancer-wisconsin.csv`) has 11 columns and 699 rows.\n",
    "\n",
    "Column descriptions: \n",
    "\n",
    "\n",
    "\n",
    "| n° | attribute   |Domain|\n",
    "|------|------|------|\n",
    "|   1  | Sample number|id number |\n",
    "|   2  | Clump thickness|1-10|\n",
    "|   3  | Uniformity of Cell Size|1-10  |\n",
    "|   4  | Uniformity of Cell Shape|1-10  |\n",
    "|   5  | Marginal Adhesion |1-10  |\n",
    "|   6  | Single Epithelial Cell Size|1-10  |\n",
    "|   7  | Bare Nuclei   |1-10  |\n",
    "|   8  | Bland Chromatin |1-10  |\n",
    "|   9  | Normal Nucleoli |1-10  |\n",
    "|   10  | Mitoses |1-10  |\n",
    "|   11  | Class|2,4  |\n",
    "\n",
    "\n",
    "For the cancer class (column \"Class\"):\n",
    "- 2: benign cancer\n",
    "- 4: malignant cancer"
   ]
  },
  {
   "cell_type": "code",
<<<<<<< HEAD
   "execution_count": 16,
=======
   "execution_count": 38,
>>>>>>> 3e01fce88c7aad2b90acdbae2ef0bc29aabeb682
   "metadata": {},
   "outputs": [
    {
     "data": {
      "text/html": [
       "<div>\n",
<<<<<<< HEAD
       "<style>\n",
       "    .dataframe thead tr:only-child th {\n",
       "        text-align: right;\n",
       "    }\n",
       "\n",
       "    .dataframe thead th {\n",
       "        text-align: left;\n",
=======
       "<style scoped>\n",
       "    .dataframe tbody tr th:only-of-type {\n",
       "        vertical-align: middle;\n",
>>>>>>> 3e01fce88c7aad2b90acdbae2ef0bc29aabeb682
       "    }\n",
       "\n",
       "    .dataframe tbody tr th {\n",
       "        vertical-align: top;\n",
       "    }\n",
<<<<<<< HEAD
=======
       "\n",
       "    .dataframe thead th {\n",
       "        text-align: right;\n",
       "    }\n",
>>>>>>> 3e01fce88c7aad2b90acdbae2ef0bc29aabeb682
       "</style>\n",
       "<table border=\"1\" class=\"dataframe\">\n",
       "  <thead>\n",
       "    <tr style=\"text-align: right;\">\n",
       "      <th></th>\n",
       "      <th>CodeNumber</th>\n",
       "      <th>ClumpThickness</th>\n",
       "      <th>UniformityCellSize</th>\n",
       "      <th>UniformityCellShape</th>\n",
       "      <th>MarginalAdhesion</th>\n",
       "      <th>SingleEpithelialCellSize</th>\n",
       "      <th>BareNuclei</th>\n",
       "      <th>BlandChromatin</th>\n",
       "      <th>NormalNucleoli</th>\n",
       "      <th>Mitoses</th>\n",
       "      <th>CancerType</th>\n",
       "    </tr>\n",
       "  </thead>\n",
       "  <tbody>\n",
       "    <tr>\n",
       "      <th>0</th>\n",
       "      <td>1000025</td>\n",
       "      <td>5</td>\n",
       "      <td>1</td>\n",
       "      <td>1</td>\n",
       "      <td>1</td>\n",
       "      <td>2</td>\n",
       "      <td>1</td>\n",
       "      <td>3</td>\n",
       "      <td>1</td>\n",
       "      <td>1</td>\n",
       "      <td>2</td>\n",
       "    </tr>\n",
       "    <tr>\n",
       "      <th>1</th>\n",
       "      <td>1002945</td>\n",
       "      <td>5</td>\n",
       "      <td>4</td>\n",
       "      <td>4</td>\n",
       "      <td>5</td>\n",
       "      <td>7</td>\n",
       "      <td>10</td>\n",
       "      <td>3</td>\n",
       "      <td>2</td>\n",
       "      <td>1</td>\n",
       "      <td>2</td>\n",
       "    </tr>\n",
       "    <tr>\n",
       "      <th>2</th>\n",
       "      <td>1015425</td>\n",
       "      <td>3</td>\n",
       "      <td>1</td>\n",
       "      <td>1</td>\n",
       "      <td>1</td>\n",
       "      <td>2</td>\n",
       "      <td>2</td>\n",
       "      <td>3</td>\n",
       "      <td>1</td>\n",
       "      <td>1</td>\n",
       "      <td>2</td>\n",
       "    </tr>\n",
       "    <tr>\n",
       "      <th>3</th>\n",
       "      <td>1016277</td>\n",
       "      <td>6</td>\n",
       "      <td>8</td>\n",
       "      <td>8</td>\n",
       "      <td>1</td>\n",
       "      <td>3</td>\n",
       "      <td>4</td>\n",
       "      <td>3</td>\n",
       "      <td>7</td>\n",
       "      <td>1</td>\n",
       "      <td>2</td>\n",
       "    </tr>\n",
       "    <tr>\n",
       "      <th>4</th>\n",
       "      <td>1017023</td>\n",
       "      <td>4</td>\n",
       "      <td>1</td>\n",
       "      <td>1</td>\n",
       "      <td>3</td>\n",
       "      <td>2</td>\n",
       "      <td>1</td>\n",
       "      <td>3</td>\n",
       "      <td>1</td>\n",
       "      <td>1</td>\n",
       "      <td>2</td>\n",
       "    </tr>\n",
       "  </tbody>\n",
       "</table>\n",
       "</div>"
      ],
      "text/plain": [
       "   CodeNumber  ClumpThickness  UniformityCellSize  UniformityCellShape  \\\n",
       "0     1000025               5                   1                    1   \n",
       "1     1002945               5                   4                    4   \n",
       "2     1015425               3                   1                    1   \n",
       "3     1016277               6                   8                    8   \n",
       "4     1017023               4                   1                    1   \n",
       "\n",
       "   MarginalAdhesion  SingleEpithelialCellSize BareNuclei  BlandChromatin  \\\n",
       "0                 1                         2          1               3   \n",
       "1                 5                         7         10               3   \n",
       "2                 1                         2          2               3   \n",
       "3                 1                         3          4               3   \n",
       "4                 3                         2          1               3   \n",
       "\n",
       "   NormalNucleoli  Mitoses  CancerType  \n",
       "0               1        1           2  \n",
       "1               2        1           2  \n",
       "2               1        1           2  \n",
       "3               7        1           2  \n",
       "4               1        1           2  "
      ]
     },
<<<<<<< HEAD
     "execution_count": 16,
=======
     "execution_count": 38,
>>>>>>> 3e01fce88c7aad2b90acdbae2ef0bc29aabeb682
     "metadata": {},
     "output_type": "execute_result"
    }
   ],
   "source": [
    "# import dataset\n",
    "df = pd.read_csv(filepath_or_buffer=\"breast-cancer-wisconsin.csv\",header=None)\n",
    "\n",
    "# rename columns\n",
    "col_names = [\"CodeNumber\", \"ClumpThickness\", \"UniformityCellSize\", \"UniformityCellShape\", \"MarginalAdhesion\",\n",
    "               \"SingleEpithelialCellSize\", \"BareNuclei\",\"BlandChromatin\", \"NormalNucleoli\", \"Mitoses\",\n",
    "               \"CancerType\"]\n",
    "df.columns= col_names\n",
    "df.head()"
   ]
  },
  {
   "cell_type": "code",
<<<<<<< HEAD
   "execution_count": 17,
=======
   "execution_count": 39,
>>>>>>> 3e01fce88c7aad2b90acdbae2ef0bc29aabeb682
   "metadata": {},
   "outputs": [
    {
     "data": {
      "text/html": [
       "<div>\n",
<<<<<<< HEAD
       "<style>\n",
       "    .dataframe thead tr:only-child th {\n",
       "        text-align: right;\n",
       "    }\n",
       "\n",
       "    .dataframe thead th {\n",
       "        text-align: left;\n",
=======
       "<style scoped>\n",
       "    .dataframe tbody tr th:only-of-type {\n",
       "        vertical-align: middle;\n",
>>>>>>> 3e01fce88c7aad2b90acdbae2ef0bc29aabeb682
       "    }\n",
       "\n",
       "    .dataframe tbody tr th {\n",
       "        vertical-align: top;\n",
       "    }\n",
<<<<<<< HEAD
=======
       "\n",
       "    .dataframe thead th {\n",
       "        text-align: right;\n",
       "    }\n",
>>>>>>> 3e01fce88c7aad2b90acdbae2ef0bc29aabeb682
       "</style>\n",
       "<table border=\"1\" class=\"dataframe\">\n",
       "  <thead>\n",
       "    <tr style=\"text-align: right;\">\n",
       "      <th></th>\n",
       "      <th>CodeNumber</th>\n",
       "      <th>ClumpThickness</th>\n",
       "      <th>UniformityCellSize</th>\n",
       "      <th>UniformityCellShape</th>\n",
       "      <th>MarginalAdhesion</th>\n",
       "      <th>SingleEpithelialCellSize</th>\n",
       "      <th>BlandChromatin</th>\n",
       "      <th>NormalNucleoli</th>\n",
       "      <th>Mitoses</th>\n",
       "      <th>CancerType</th>\n",
       "    </tr>\n",
       "  </thead>\n",
       "  <tbody>\n",
       "    <tr>\n",
       "      <th>0</th>\n",
       "      <td>1000025</td>\n",
       "      <td>5</td>\n",
       "      <td>1</td>\n",
       "      <td>1</td>\n",
       "      <td>1</td>\n",
       "      <td>2</td>\n",
       "      <td>3</td>\n",
       "      <td>1</td>\n",
       "      <td>1</td>\n",
       "      <td>2</td>\n",
       "    </tr>\n",
       "    <tr>\n",
       "      <th>1</th>\n",
       "      <td>1002945</td>\n",
       "      <td>5</td>\n",
       "      <td>4</td>\n",
       "      <td>4</td>\n",
       "      <td>5</td>\n",
       "      <td>7</td>\n",
       "      <td>3</td>\n",
       "      <td>2</td>\n",
       "      <td>1</td>\n",
       "      <td>2</td>\n",
       "    </tr>\n",
       "    <tr>\n",
       "      <th>2</th>\n",
       "      <td>1015425</td>\n",
       "      <td>3</td>\n",
       "      <td>1</td>\n",
       "      <td>1</td>\n",
       "      <td>1</td>\n",
       "      <td>2</td>\n",
       "      <td>3</td>\n",
       "      <td>1</td>\n",
       "      <td>1</td>\n",
       "      <td>2</td>\n",
       "    </tr>\n",
       "    <tr>\n",
       "      <th>3</th>\n",
       "      <td>1016277</td>\n",
       "      <td>6</td>\n",
       "      <td>8</td>\n",
       "      <td>8</td>\n",
       "      <td>1</td>\n",
       "      <td>3</td>\n",
       "      <td>3</td>\n",
       "      <td>7</td>\n",
       "      <td>1</td>\n",
       "      <td>2</td>\n",
       "    </tr>\n",
       "    <tr>\n",
       "      <th>4</th>\n",
       "      <td>1017023</td>\n",
       "      <td>4</td>\n",
       "      <td>1</td>\n",
       "      <td>1</td>\n",
       "      <td>3</td>\n",
       "      <td>2</td>\n",
       "      <td>3</td>\n",
       "      <td>1</td>\n",
       "      <td>1</td>\n",
       "      <td>2</td>\n",
       "    </tr>\n",
       "  </tbody>\n",
       "</table>\n",
       "</div>"
      ],
      "text/plain": [
       "   CodeNumber  ClumpThickness  UniformityCellSize  UniformityCellShape  \\\n",
       "0     1000025               5                   1                    1   \n",
       "1     1002945               5                   4                    4   \n",
       "2     1015425               3                   1                    1   \n",
       "3     1016277               6                   8                    8   \n",
       "4     1017023               4                   1                    1   \n",
       "\n",
       "   MarginalAdhesion  SingleEpithelialCellSize  BlandChromatin  NormalNucleoli  \\\n",
       "0                 1                         2               3               1   \n",
       "1                 5                         7               3               2   \n",
       "2                 1                         2               3               1   \n",
       "3                 1                         3               3               7   \n",
       "4                 3                         2               3               1   \n",
       "\n",
       "   Mitoses  CancerType  \n",
       "0        1           2  \n",
       "1        1           2  \n",
       "2        1           2  \n",
       "3        1           2  \n",
       "4        1           2  "
      ]
     },
<<<<<<< HEAD
     "execution_count": 17,
=======
     "execution_count": 39,
>>>>>>> 3e01fce88c7aad2b90acdbae2ef0bc29aabeb682
     "metadata": {},
     "output_type": "execute_result"
    }
   ],
   "source": [
    "# drop the BareNuclei column (since it contains missing values coded as \"?\")\n",
    "del df[\"BareNuclei\"]\n",
<<<<<<< HEAD
    "df.head()\n",
    "  \n",
    "#iris = datasets.load_iris()\n",
    "#feature = iris.data[:, :2]  \n",
    "#label = iris.target\n",
    "\n",
    "# Split into training and testing\n",
    "\n",
    "#mytrain, mytest, mytrainlabel, mytestlabel = train_test_split(feature, label,train_size = 0.6)"
=======
    "df.head()"
>>>>>>> 3e01fce88c7aad2b90acdbae2ef0bc29aabeb682
   ]
  },
  {
   "cell_type": "markdown",
   "metadata": {},
   "source": [
    "## Split the original data into a train and a test dataset\n",
    "We are now going to use our original dataset to:\n",
    "- train a Random Forest (RF) model\n",
    "- test our RF model on a test dataset.\n",
    "\n",
    "We are going to split our dataset (`breast-cancer-wisconsin`) into a train and a test dataset."
   ]
  },
  {
   "cell_type": "code",
<<<<<<< HEAD
   "execution_count": 21,
   "metadata": {},
=======
   "execution_count": 40,
   "metadata": {
    "collapsed": true
   },
>>>>>>> 3e01fce88c7aad2b90acdbae2ef0bc29aabeb682
   "outputs": [],
   "source": [
    "# specify the label (=y) variable (cancer class)\n",
    "label = df.CancerType\n",
    "\n",
    "# specify the features (=x) variables (measured variables)\n",
    "features = df.iloc[:,1:9]\n",
    "\n",
    "# Split dataset into a random train and test subsets\n",
    "# We need to indicate which subset corresponds to the features/variables and which column corresponds to the class we are trying to predict. \n",
    "# Finally, we also indicate the percentage of the dataset to include into the train split (proportion of samples used to train the model)\n",
    "train_x, test_x, train_y, test_y = train_test_split(features,label,train_size=0.7,test_size=0.3)"
   ]
  },
  {
   "cell_type": "code",
<<<<<<< HEAD
   "execution_count": 29,
=======
   "execution_count": 41,
>>>>>>> 3e01fce88c7aad2b90acdbae2ef0bc29aabeb682
   "metadata": {},
   "outputs": [
    {
     "name": "stdout",
     "output_type": "stream",
     "text": [
      "We have 489 samples in the train dataset \n",
      "We have 210 samples in the test dataset \n",
      "We have in total 699 in both train and test datasets\n"
     ]
    }
   ],
   "source": [
    "# Let's do some \"sanity checks\"\n",
    "print(\"We have \" + str(train_x.shape[0]) + \" samples in the train dataset \")\n",
    "print(\"We have \" + str(test_x.shape[0]) + \" samples in the test dataset \")\n",
    "sum_samples = train_x.shape[0] + test_x.shape[0]\n",
    "print(\"We have in total \" + str(sum_samples) + \" in both train and test datasets\")"
   ]
  },
  {
   "cell_type": "markdown",
   "metadata": {},
   "source": [
    "## Random Forest classifier\n",
    "\n",
    "### Training the classifier"
   ]
  },
  {
   "cell_type": "code",
<<<<<<< HEAD
   "execution_count": 30,
=======
   "execution_count": 42,
>>>>>>> 3e01fce88c7aad2b90acdbae2ef0bc29aabeb682
   "metadata": {
    "collapsed": true
   },
   "outputs": [],
   "source": [
    "# Set Random Forest parameters\n",
    "n_estimators=30\n",
    "criterion='gini'\n",
    "max_depth=30\n",
    "min_samples_split=5\n",
    "min_samples_leaf=5\n",
    "max_features='auto'\n",
    "max_leaf_nodes=None\n",
    "bootstrap=True\n",
    "oob_score=True\n",
    "n_jobs=1\n",
    "random_state=None\n",
    "verbose=0\n",
    "class_weight='balanced'\n",
    "\n",
    "# build the Random Forest classifier\n",
    "forest = RandomForestClassifier(n_estimators=n_estimators, criterion=criterion, max_depth=max_depth,\n",
    "                             min_samples_split=min_samples_split, min_samples_leaf=min_samples_leaf,\n",
    "                             max_features=max_features, max_leaf_nodes=max_leaf_nodes, bootstrap=bootstrap, oob_score=oob_score,\n",
    "                             n_jobs=n_jobs, random_state=random_state, verbose=verbose,class_weight=class_weight)\n",
    "\n",
    "# train the Random Forest classifier on our dataset\n",
    "RF_classifier = forest.fit(train_x, train_y)"
   ]
  },
  {
   "cell_type": "markdown",
   "metadata": {},
   "source": [
    "### Benchmarking the performance of the trained RF classifier on the test dataset"
   ]
  },
  {
   "cell_type": "code",
<<<<<<< HEAD
   "execution_count": 31,
   "metadata": {
    "scrolled": true
=======
   "execution_count": 43,
   "metadata": {
    "scrolled": false
>>>>>>> 3e01fce88c7aad2b90acdbae2ef0bc29aabeb682
   },
   "outputs": [
    {
     "name": "stdout",
     "output_type": "stream",
     "text": [
      "             precision    recall  f1-score   support\n",
      "\n",
<<<<<<< HEAD
      "          2       0.98      0.94      0.96       134\n",
      "          4       0.90      0.97      0.94        76\n",
      "\n",
      "avg / total       0.95      0.95      0.95       210\n",
      "\n",
      "[[126   8]\n",
      " [  2  74]]\n"
=======
      "          2       0.96      1.00      0.98       137\n",
      "          4       1.00      0.92      0.96        73\n",
      "\n",
      "avg / total       0.97      0.97      0.97       210\n",
      "\n"
>>>>>>> 3e01fce88c7aad2b90acdbae2ef0bc29aabeb682
     ]
    }
   ],
   "source": [
    "# Validation\n",
    "mypredtest=RF_classifier.predict(test_x)\n",
    "\n",
<<<<<<< HEAD
    "print(classification_report(test_y, mypredtest)) \n",
    "print(confusion_matrix(test_y, mypredtest))"
=======
    "print(classification_report(test_y, mypredtest)) "
>>>>>>> 3e01fce88c7aad2b90acdbae2ef0bc29aabeb682
   ]
  },
  {
   "cell_type": "code",
<<<<<<< HEAD
   "execution_count": null,
   "metadata": {
    "collapsed": true
   },
   "outputs": [],
   "source": [
    "# Graphical representation of the confusion matrix\n",
    "\n",
    "# definition of a helper function (taken from http://scikit-learn.org/stable/auto_examples/model_selection/plot_confusion_matrix.html)\n",
    "def plot_confusion_matrix(cm, classes,\n",
    "                          normalize=False,\n",
    "                          title='Confusion matrix',\n",
    "                          cmap=plt.cm.Blues):\n",
    "    \"\"\"\n",
    "    This function prints and plots the confusion matrix.\n",
    "    Normalization can be applied by setting `normalize=True`.\n",
    "    \"\"\"\n",
    "    if normalize:\n",
    "        cm = cm.astype('float') / cm.sum(axis=1)[:, np.newaxis]\n",
    "        print(\"Normalized confusion matrix\")\n",
    "    else:\n",
    "        print('Confusion matrix, without normalization')\n",
    "\n",
    "    print(cm)\n",
    "\n",
    "    plt.imshow(cm, interpolation='nearest', cmap=cmap)\n",
    "    plt.title(title)\n",
    "    plt.colorbar()\n",
    "    tick_marks = np.arange(len(classes))\n",
    "    plt.xticks(tick_marks, classes, rotation=45)\n",
    "    plt.yticks(tick_marks, classes)\n",
    "\n",
    "    fmt = '.2f' if normalize else 'd'\n",
    "    thresh = cm.max() / 2.\n",
    "    for i, j in itertools.product(range(cm.shape[0]), range(cm.shape[1])):\n",
    "        plt.text(j, i, format(cm[i, j], fmt),\n",
    "                 horizontalalignment=\"center\",\n",
    "                 color=\"white\" if cm[i, j] > thresh else \"black\")\n",
    "\n",
    "    plt.tight_layout()\n",
    "    plt.ylabel('True label')\n",
    "    plt.xlabel('Predicted label')"
   ]
  },
  {
   "cell_type": "code",
   "execution_count": null,
   "metadata": {
    "collapsed": true
   },
   "outputs": [],
   "source": []
  },
  {
   "cell_type": "code",
   "execution_count": null,
   "metadata": {
    "collapsed": true
   },
   "outputs": [],
=======
   "execution_count": 44,
   "metadata": {},
   "outputs": [
    {
     "name": "stdout",
     "output_type": "stream",
     "text": [
      "Confusion matrix, without normalization\n",
      "[[137   0]\n",
      " [  6  67]]\n",
      "Normalized confusion matrix\n",
      "[[ 1.    0.  ]\n",
      " [ 0.08  0.92]]\n"
     ]
    },
    {
     "data": {
      "image/png": "iVBORw0KGgoAAAANSUhEUgAAAUsAAAEmCAYAAADr3bIaAAAABHNCSVQICAgIfAhkiAAAAAlwSFlzAAALEgAACxIB0t1+/AAAADl0RVh0U29mdHdhcmUAbWF0cGxvdGxpYiB2ZXJzaW9uIDIuMi4yLCBodHRwOi8vbWF0cGxvdGxpYi5vcmcvhp/UCwAAGfZJREFUeJzt3Xu4HVV9xvHvexIChCRyCWDMRVADSHkEQkwpVKViKSCV1EcURAwQTUFLVbQKSou2Umntg2JBMYgSlXJRoaBoEaOo8EA0N4UYLgENxARCQC5CuCT++sesjduTc/aevc/sM3v2eT955smey15rnYS8rFmzZkYRgZmZNdZXdgPMzKrAYWlmloPD0swsB4elmVkODkszsxwclmZmOTgsRxBJ20r6tqTHJX1jCOUcL+n7RbatLJJeI+mustth3U+eZ9l9JL0dOB3YC3gSWA6cExE3D7HcE4DTgIMiYtOQG9rlJAUwPSJWld0Wqz73LLuMpNOBzwL/DuwKTAM+DxxdQPEvBe4eCUGZh6TRZbfBKiQivHTJArwI+D1wTINjtiYL07Vp+Sywddp3CLAG+CCwHlgHnJT2fQJ4Dng+1TEX+Djw9bqydwMCGJ3WTwTuI+vd/ho4vm77zXXfOwj4OfB4+v2gun03Af8G3JLK+T4wcZCfrdb+D9e1fzZwJHA38Cjw0brjZwG3Ao+lYy8AxqR9P0k/y1Pp531bXfkfAR4Evlbblr7z8lTHjLT+EmADcEjZ/214KX9xz7K7/AWwDXBNg2M+BhwI7AfsSxYYZ9XtfzFZ6E4mC8QLJe0QEWeT9VavjIhxEXFJo4ZI2g74HHBERIwnC8TlAxy3I3B9OnYn4Dzgekk71R32duAkYBdgDPChBlW/mOzPYDLwL8DFwDuAA4DXAP8i6WXp2M3AB4CJZH92hwLvAYiI16Zj9k0/75V15e9I1sueV19xRNxLFqSXSRoLfAW4NCJuatBeGyEclt1lJ2BDND5NPh7414hYHxEPk/UYT6jb/3za/3xEfJesV7Vnm+35A7CPpG0jYl1ErBjgmDcC90TE1yJiU0RcDtwJ/G3dMV+JiLsjYiNwFVnQD+Z5svHZ54EryILw/Ih4MtW/AngVQEQsiYjbUr2/Ab4IvC7Hz3R2RDyb2vMnIuJi4B5gETCJ7H9OZg7LLvMIMLHJWNpLgNV166vTthfK6Be2TwPjWm1IRDxFdup6CrBO0vWS9srRnlqbJtetP9hCex6JiM3pcy3MHqrbv7H2fUl7SPqOpAclPUHWc57YoGyAhyPimSbHXAzsA/x3RDzb5FgbIRyW3eVW4BmycbrBrCU7hayZlra14ylgbN36i+t3RsQNEfHXZD2sO8lCpFl7am36bZttasUXyNo1PSImAB8F1OQ7Dad/SBpHNg58CfDxNMxg5rDsJhHxONk43YWSZksaK2krSUdI+s902OXAWZJ2ljQxHf/1NqtcDrxW0jRJLwLOrO2QtKukN6Wxy2fJTuc3D1DGd4E9JL1d0mhJbwP2Br7TZptaMR54Avh96vWe2m//Q8DLtvhWY+cDSyLiXWRjsRcNuZXWExyWXSYiziObY3kW8DDwAPAPwP+mQz4JLAZ+CdwOLE3b2qnrRuDKVNYS/jTg+siuqq8lu0L8OtLFk35lPAIclY59hOxK9lERsaGdNrXoQ2QXj54k6/Ve2W//x4EFkh6T9NZmhUk6GjicbOgBsr+HGZKOL6zFVlmelG5mloN7lmZmOTgszcxycFiameXgsDQzy6GrHiSg0duGxowvuxlWkP1fOa3sJlhBVq/+DRs2bGg2h7Uloya8NGLTFjdRDSo2PnxDRBxeZBta0V1hOWY8W+/ZdIaHVcQtiy4ouwlWkIP/fGbhZcamjS39e39m+YXN7s7qqK4KSzMbSQSqzkigw9LMyiFAhZ7Zd5TD0szK456lmVkzgr5RZTciN4elmZXHp+FmZk0In4abmTUn9yzNzHJxz9LMLAf3LM3MmvGkdDOz5jwp3cwsJ/cszcyaEYzypHQzs8Y8z9LMLCePWZqZNeOr4WZm+bhnaWaWg3uWZmZNyPeGm5nl456lmVkO7lmamTXjq+FmZs0Jv1bCzKy5avUsq9NSM+s9tSvieZamRenLktZLuqNu26cl3Snpl5KukbR93b4zJa2SdJekv2lWvsPSzMqjvvxLc5cCh/fbdiOwT0S8CrgbOBNA0t7AscCfpe98XlLDMQGHpZmVp8CeZUT8BHi037bvR8SmtHobMCV9Phq4IiKejYhfA6uAWY3Kd1iaWTmkVnuWEyUtrlvmtVjjycD30ufJwAN1+9akbYPyBR4zK09r8yw3RMTM9qrRx4BNwGW1TQMcFo3KcFiaWWk0DJPSJc0BjgIOjYhaIK4BptYdNgVY26gcn4abWSmyV/Ao99JWHdLhwEeAN0XE03W7rgOOlbS1pN2B6cDPGpXlnqWZlUNCfcX1LCVdDhxCNra5Bjib7Or31sCNKXBvi4hTImKFpKuAX5Gdnr83IjY3Kt9haWalKfI0PCKOG2DzJQ2OPwc4J2/5DkszK81wjFkWxWFpZqVxWJqZNSMGnsDTpRyWZlYK0f5V7jI4LM2sNA5LM7McHJZmZjk4LM3MmvEFHjOz5oTo66vOHdcOSzMrjU/DzczyqE5WOizNrCRyz9LMLBeHpZlZDg5LM7MmfLujmVle1clKh6WZlcQXeMzM8nFYmpnlUOQ7eDrNYWlmpalSz7JjN2ZKmirpR5JWSloh6X2dqsvMqqeV1+B2Q6h2sme5CfhgRCyVNB5YIunGiPhVB+s0swrphhDMq2NhGRHrgHXp85OSVgKTyd7Ta2bmsOxP0m7A/sCiAfbNA+YBsNW44WiOmXWL6mRl58NS0jjgW8D7I+KJ/vsjYj4wH6Bv7C7R6faYWfeoUs+yo0/elLQVWVBeFhFXd7IuM6sYtXaRp2lx0pclrZd0R922HSXdKOme9PsOabskfU7SKkm/lDSjWfmdvBou4BJgZUSc16l6zKyaBEj5lxwuBQ7vt+0MYGFETAcWpnWAI4DpaZkHfKFZ4Z3sWR4MnAC8XtLytBzZwfrMrFJEX1/+pZmI+AnwaL/NRwML0ucFwOy67V+NzG3A9pImNSq/k1fDb6ZSw7dmNtxaHLOcKGlx3fr8dM2jkV3TzBwiYp2kXdL2ycADdcetSdvWDVaQ7+Axs3LkP72u2RARM4urfQsNLzA7LM2sFIJcp9dD9JCkSalXOQlYn7avAabWHTcFWNuooOq8h9LMek7BF3gGch0wJ32eA1xbt/2d6ar4gcDjtdP1wbhnaWalKXKepaTLgUPIxjbXAGcD5wJXSZoL3A8ckw7/LnAksAp4GjipWfkOSzMrx9B6jFuIiOMG2XXoAMcG8N5WyndYmlkpsnmW1Zkw47A0s5J0x6PX8nJYmllpKpSVDkszK4mGZepQYRyWZlYKj1mameVUoax0WJpZedyzNDPLoUJZ6bA0s5LIPUszs6ZqD/+tCoelmZXEk9LNzHKpUFY6LM2sJJ6UbmbWnCelm5nl5LA0M8uhQlnpsDSz8rhnaWbWTMFPSu80h6WZlUKeZ2lmlk+FstJhaWbl6atQWjoszaw0FcpKh6WZlUOCUb6Dx8ysuZ64wCNpQqMvRsQTxTfHzEaSCmVlw57lCiDIbuGsqa0HMK2D7TKzHiey6UOFlSd9AHgXWT7dDpwETAKuAHYElgInRMRz7ZQ/aFhGxNR2CjQzy6uoIUtJk4F/BPaOiI2SrgKOBY4EPhMRV0i6CJgLfKGttuZsyLGSPpo+T5F0QDuVmZm9QNmk9LxLDqOBbSWNBsYC64DXA99M+xcAs9ttbtOwlHQB8FfACWnT08BF7VZoZlYj5V+AiZIW1y3zauVExG+B/wLuJwvJx4ElwGMRsSkdtgaY3G5b81wNPygiZkhalhr1qKQx7VZoZgbZmGWLk9I3RMTMAcuSdgCOBnYHHgO+ARwxwKHRYjNfkCcsn5fUV6tE0k7AH9qt0MyspsCr4W8Afh0RD2fl6mrgIGB7SaNT73IKsLbdCvKMWV4IfAvYWdIngJuB/2i3QjOzmgLHLO8HDpQ0VtnBhwK/An4EvCUdMwe4tt22Nu1ZRsRXJS0hS26AYyLijnYrNDODYu/giYhFkr5JNj1oE7AMmA9cD1wh6ZNp2yXt1pH3Dp5RwPNkp+K5rqCbmTVT5Jz0iDgbOLvf5vuAWUWUn+dq+MeAy4GXkJ3z/4+kM4uo3MxGtoKnDnVUnp7lO4ADIuJpAEnnkF2S/1QnG2ZmvS27Gl52K/LLE5ar+x03mqxra2bWvi7pMebV6EEanyEbo3waWCHphrR+GNkVcTOzIalQVjbsWdaueK8gu6JUc1vnmmNmI0lP9Cwjou1L7GZmzfTcmKWklwPnAHsD29S2R8QeHWyXmY0AVepZ5pkzeSnwFbL/ERwBXEX2fDgzs7ZJMErKvZQtT1iOjYgbACLi3og4i+wpRGZmQ9LiU4dKlWfq0LPpXst7JZ0C/BbYpbPNMrORoEqn4XnC8gPAOLKnEJ8DvAg4uZONMrORoUJZmetBGovSxyf54wOAzcyGRKjV51mWqtGk9Gto8KDMiHhzR1pkZiNDl4xF5tWoZ3nBsLUi2Xevafzw5vOHu1rrkDOuX1l2E6wgax5/piPl9sSYZUQsHM6GmNnIU6XnPeZ9nqWZWaFEj/Qszcw6radud6yRtHVEPNvJxpjZyFHkayWGQ54npc+SdDtwT1rfV9J/d7xlZtbz+pR/KVue8dXPAUcBjwBExC/w7Y5mVoBeu92xLyJW9xuI3dyh9pjZCJE9oq0LUjCnPGH5gKRZQEgaBZwG3N3ZZpnZSNBrU4dOJTsVnwY8BPwgbTMzG5IKdSxz3Ru+Hjh2GNpiZiOI1CP3htdIupgB7hGPiHkdaZGZjRhFZqWk7YEvAfuQZdbJwF3AlcBuwG+At0bE79opP8+QwQ+AhWm5hexZlp5vaWZDVvDUofOB/4uIvYB9gZXAGcDCiJhOlmFntNvWPKfhV9avS/oacGO7FZqZQXY1vKhJ6ZImAK8FTgSIiOeA5yQdDRySDlsA3AR8pJ062rkYtTvw0nYqMzN7QQu9yhyZ+jLgYeArkpZJ+pKk7YBdI2IdQPq97bc85Bmz/B1/HLPsAx5lCF1ZM7Ma0VLPcqKkxXXr8yNifvo8GpgBnBYRiySdT8E51TAs07t39iV77w7AHyJi0AcCm5nl1cZ7wzdExMxB9q0B1tS92eGbZGH5kKRJEbFO0iRgfbvtbXganoLxmojYnBYHpZkVpqjT8Ih4kOwGmj3TpkOBXwHXAXPStjnAte22Nc+k9J9JmhERS9utxMxsIAU/z/I04DJJY4D7gJPIOoRXSZoL3A8c027hjd7BMzoiNgF/Cbxb0r3AU2S954iIGe1WambWxml4QxGxHBjoNP3QIspv1LP8GdmA6ewiKjIz+xNd8jShvBqFpQAi4t5haouZjTC9crvjzpJOH2xnRJzXgfaY2QhR9Gl4pzUKy1HAOGhtIpSZWT5iVI/0LNdFxL8OW0vMbETJ3u5YdivyazpmaWbWEV3ybp28GoVlIZfbzcwG0xMXeCLi0eFsiJmNLL10Gm5m1lE90bM0M+u0CmWlw9LMyiF67+2OZmbFU+EP0ugoh6WZlaY6UemwNLOSCHrmDh4zs46qUFY6LM2sLPKYpZlZM74abmaWk3uWZmY5VCcqHZZmVhbPszQza85jlmZmOblnaWaWQ688/NfMrGOy0/DqpKXD0sxKU6Gz8EqNr5pZT1FLv3KVKI2StEzSd9L67pIWSbpH0pWSxrTbWoelmZVGyr/k9D5gZd36fwCfiYjpwO+Aue221WFpZqWojVnmXZqWJ00B3gh8Ka0LeD3wzXTIAmB2u+31mKWZlaO1HmMenwU+DIxP6zsBj0XEprS+BpjcbuHuWZpZaVo8DZ8oaXHdMu+P5egoYH1ELKkvfoAqo922umdpZqXJe+Em2RARMwfZdzDwJklHAtsAE8h6mttLGp16l1OAte221T1LMyuFyCal510aiYgzI2JKROwGHAv8MCKOB34EvCUdNge4tt32OizNrDR9Uu6lTR8BTpe0imwM85J2C/JpuJmVpsXT8Fwi4ibgpvT5PmBWEeU6LM2sFLXT8Kro+Gl4/xn1ZmaZ4u/g6aTh6FnWZtRPGIa6zKwqip9n2VEd7Vn2n1FvZlZPLSxl63TPsv+M+i2kiaXzAKZMndbh5phZt8jGLLshBvPpWM9ykBn1W4iI+RExMyJmTpy4c6eaY2ZdyD3LzBYz6iV9PSLe0cE6zaxKuiEFc+pYz3KQGfUOSjN7wTBMSi+M51maWWnKj8D8hiUs62fUm5m9oEJp6Z6lmZUiu3BTnbR0WJpZOSo2Kd1haWalqVBWOizNrEQVSkuHpZmVpDsekJGXw9LMSuMxSzOzJrrlNsa8HJZmVhpVqGvpsDSz0lQoKx2WZlaeCmWlw9LMSlKxQUuHpZmVxlOHzMyaEB6zNDPLpUJZ6bA0sxJVKC07/t5wM7PBFPXecElTJf1I0kpJKyS9L23fUdKNku5Jv+/QblsdlmZWmj7lX5rYBHwwIl4JHAi8V9LewBnAwoiYDixM6+21td0vmpkNWUGvd4yIdRGxNH1+ElgJTAaOBhakwxYAs9ttqscszawUbTwpfaKkxXXr8yNi/hblSrsB+wOLgF0jYh1kgSppl3bb67A0s3K0/qT0DRExs2GR0jjgW8D7I+KJIu8992m4mZWmoLPwrCxpK7KgvCwirk6bH5I0Ke2fBKxvt60OSzMrT0FpqawLeQmwMiLOq9t1HTAnfZ4DXNtuU30abmYlKfRJ6QcDJwC3S1qetn0UOBe4StJc4H7gmHYrcFiaWWmKGlKMiJsZvP95aBF1OCzNrBQVe+iQw9LMSlShtHRYmllp+ir02CGHpZmVpjpR6bA0s7K0Pim9VA5LMytRddLSYWlmpfCT0s3McqpQVjoszaw87lmameXgtzuameVRnax0WJpZeSqUlQ5LMyuH5Dt4zMzyqU5WOizNrDwVykqHpZmVp0Jn4Q5LMytLoU9K7ziHpZmVomq3O/qFZWZmObhnaWalqVLP0mFpZqXxmKWZWRPZpPSyW5Gfw9LMyuOwNDNrzqfhZmY5VOkCj6cOmVlp1MLStCzpcEl3SVol6Yyi2+qwNLPyFJSWkkYBFwJHAHsDx0nau8imOizNrDRq4VcTs4BVEXFfRDwHXAEcXWRbu2rMcvmyJRt23G706rLbMQwmAhvKboQVYqT8Xb606AKXLV1yw9gxmtjCV7aRtLhufX5EzE+fJwMP1O1bA/z5UNtYr6vCMiJ2LrsNw0HS4oiYWXY7bOj8d9m+iDi8wOIG6npGgeX7NNzMesIaYGrd+hRgbZEVOCzNrBf8HJguaXdJY4BjgeuKrKCrTsNHkPnND7GK8N9lF4iITZL+AbgBGAV8OSJWFFmHIgo9rTcz60k+DTczy8FhaWaWg8PSbAikKt3dbEPhsBwGkl4haaakrctuiw2dpL+UdAJARIQDc2Tw1fAOk3QU8O/AI8CDks6OiLtLbpa1QVIfMBb4Yraq7SLiohSYfRHxh5KbaB3kq+EdJOkg4MvAcRGxTNLngW0i4uSSm2ZDIOnDwGZgX2BZRHym5CbZMPBpeOedGxHL0uezgR19Ol55m8juFlkAzJJ0nqRPKeN/Uz3Kf7GdtQi4Gl54hNTWZA8kmJC27VRe02wIrgUejIiFwGLgFGBCZHwq3qMclh0UEZsj4om0KuAx4NGIeFjS8cAnJW1bXgutTRuBPSW9mywozwWmSfr7cptlneQLPMMkIjYBv5f0gKRPAYcBJ0bExpKbZi2KiLWSHgD+GXhvRHxb0l8Bq0pumnWQL/AMkzS9ZCtgZfr90Ii4p9xWWbskTQV2iYglad1Xw3ucw3KYSToR+HnRN/lbOSQp/I9oRHBYDjP/4zKrJoelmVkOvhpuZpaDw9LMLAeHpZlZDg5LM7McHJY9QtJmScsl3SHpG5LGDqGsQyR9J31+k6QzGhy7vaT3tFHHxyV9KO/2fsdcKuktLdS1m6Q7Wm2jWT2HZe/YGBH7RcQ+wHNkt+G9oN2HPETEdRFxboNDtgdaDkuzqnFY9qafAq9IPaqV6dFwS4Gpkg6TdKukpakHOg5A0uGS7pR0M/DmWkGSTpR0Qfq8q6RrJP0iLQeR3Rf98tSr/XQ67p8k/VzSLyV9oq6sj0m6S9IPgD2b/RCS3p3K+YWkb/XrLb9B0k8l3Z2eGYqkUZI+XVe379W2wjgse4yk0cARwO1p057AVyNif+Ap4CzgDRExg+yJOadL2ga4GPhb4DXAiwcp/nPAjyNiX2AGsAI4A7g39Wr/SdJhwHRgFrAfcICk10o6gOxdzvuThfGrc/w4V0fEq1N9K4G5dft2A14HvBG4KP0Mc4HHI+LVqfx3S9o9Rz1mTflBGr1jW0nL0+efApcALwFWR8RtafuBwN7ALelNCGOAW4G9gF/X7lWX9HVg3gB1vB54J2RPVAIel7RDv2MOS0vtGZ7jyMJzPHBNRDyd6rgux8+0j6RPkp3qjyN7J3TNVele7Hsk3Zd+hsOAV9WNZ74o1e0n09uQOSx7x8aI2K9+QwrEp+o3ATdGxHH9jtsPKOpWLgGfiogv9qvj/W3UcSkwOyJ+ke6pP6RuX/+yItV9WkTUhyqSdmuxXrMt+DR8ZLkNOFjSKwAkjZW0B3AnsLukl6fjjhvk+wuBU9N3R0maADxJ1musuQE4uW4sdLKkXYCfAH8naVtJ48lO+ZsZD6yTtBVwfL99x0jqS21+GXBXqvvUdDyS9pC0XY56zJpyz3IESQ8dPhG4XH98tcVZEXG3pHnA9ZI2ADcD+wxQxPuA+ZLmkr2D5tSIuFXSLWlqzvfSuOUrgVtTz/b3wDsiYqmkK4HlwGqyoYJm/pnsafOrycZg60P5LuDHwK7AKRHxjKQvkY1lLk2PxHsYmJ3vT8esMT9Iw8wsB5+Gm5nl4LA0M8vBYWlmloPD0swsB4elmVkODkszsxwclmZmOfw/085Uflcem3oAAAAASUVORK5CYII=\n",
      "text/plain": [
       "<Figure size 432x288 with 2 Axes>"
      ]
     },
     "metadata": {},
     "output_type": "display_data"
    },
    {
     "data": {
      "image/png": "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\n",
      "text/plain": [
       "<Figure size 432x288 with 2 Axes>"
      ]
     },
     "metadata": {},
     "output_type": "display_data"
    }
   ],
   "source": [
    "# Calculation and graphical representation of the confusion matrix\n",
    "\n",
    "# definition of a helper function (taken from \n",
    "# http://scikit-learn.org/stable/auto_examples/model_selection/plot_confusion_matrix.html)\n",
    "\n",
    "# get the target labels (it is an output from the classifier)\n",
    "target_names=RF_classifier.classes_\n",
    "\n",
    "def plot_confusion_matrix(cm, title='Confusion matrix', cmap=plt.cm.Blues):\n",
    "    plt.imshow(cm, interpolation='nearest', cmap=cmap)\n",
    "    plt.title(title)\n",
    "    plt.colorbar()\n",
    "    tick_marks = np.arange(len(target_names))\n",
    "    plt.xticks(tick_marks, target_names, rotation=45)\n",
    "    plt.yticks(tick_marks, target_names)\n",
    "    plt.tight_layout()\n",
    "    plt.ylabel('True label')\n",
    "    plt.xlabel('Predicted label')\n",
    "\n",
    "\n",
    "# Compute confusion matrix\n",
    "cm = confusion_matrix(test_y, mypredtest)\n",
    "np.set_printoptions(precision=2)\n",
    "print('Confusion matrix, without normalization')\n",
    "print(cm)\n",
    "plt.figure()\n",
    "plot_confusion_matrix(cm)\n",
    "\n",
    "cm_normalized = cm.astype('float') / cm.sum(axis=1)[:, np.newaxis]\n",
    "print('Normalized confusion matrix')\n",
    "print(cm_normalized)\n",
    "plt.figure()\n",
    "plot_confusion_matrix(cm_normalized, title='Normalized confusion matrix')\n",
    "\n",
    "plt.show()"
   ]
  },
  {
   "cell_type": "markdown",
   "metadata": {},
   "source": [
    "## Getting the best predictors of the cancer class (benign=2/malign=4)"
   ]
  },
  {
   "cell_type": "code",
   "execution_count": 50,
   "metadata": {},
   "outputs": [
    {
     "data": {
      "image/png": "iVBORw0KGgoAAAANSUhEUgAAAaUAAAEYCAYAAAD8hukFAAAABHNCSVQICAgIfAhkiAAAAAlwSFlzAAALEgAACxIB0t1+/AAAADl0RVh0U29mdHdhcmUAbWF0cGxvdGxpYiB2ZXJzaW9uIDIuMi4yLCBodHRwOi8vbWF0cGxvdGxpYi5vcmcvhp/UCwAAIABJREFUeJztnWe4HWXVhu8nhdAJIaGEAKFEIHQIRemdkEAQkS5NQJpI76CgdJWiICBVkCpSpEgTLIBI4MMCitIURKRXQdr6fjzv5ozHBCLkzEySdV/XXJmWvdeZmT3rfVdVRJAkSZIkbaBX0wIkSZIkSYdUSkmSJElrSKWUJEmStIZUSkmSJElrSKWUJEmStIZUSkmSJElrSKWUJD2MpDMkHd60HEkyKaDMU0raiqQngNmA9yq7PxURT3+Cz1wNuCgihnwy6SZNJJ0PPBURhzUtS5KMi5wpJW1ng4iYvrJ8bIU0MZDUp8nv/yRI6t20DEnyUaRSSiZJJK0g6S5JL0v6bZkBdY5tL+mPkl6T9JikL5X90wE3AoMlvV6WwZLOl/SNyv9fTdJTle0nJB0o6XfAG5L6lP93paTnJD0uac8PkfWDz+98tqQDJD0r6R+SNpK0vqQ/S3pR0iGV//s1ST+SdFn5e+6XtETl+MKS7ijX4UFJG3b73u9JukHSG8AXga2AA8rf/pNy3kGSHi2f/5Ckz1Y+YztJv5L0TUkvlb91ZOX4AEnnSXq6HL+6cmy0pAeKbHdJWrxy7EBJfy/f+bCkNSfgtidTAKmUkkkOSXMC1wPfAAYA+wFXShpUTnkWGA3MCGwPnCRp6Yh4AxgJPP0xZl5bAKOA/sD7wE+A3wJzAmsCe0ladwI/a3Zg6vJ/jwC+D2wNLAOsDBwhab7K+WOAK8rfejFwtaS+kvoWOW4GZgW+DPxQ0oKV/7slcDQwA/AD4IfACeVv36Cc82j53pmAI4GLJM1R+YzlgYeBgcAJwDmSVI5dCEwLLFJkOAlA0tLAucCXgFmAM4FrJfUr8u0BLBsRMwDrAk9M4LVLJnNSKSVt5+oy0n65MgrfGrghIm6IiPcj4hZgLLA+QERcHxGPhvk5fmmv/AnlODUinoyIN4FlgUERcVREvB0Rj2HFsvkEftY7wNER8Q5wKX7ZnxIRr0XEg8CDwOKV8++LiB+V87+NFdoKZZkeOK7I8TPgOqxAO1wTEXeW6/TWuISJiCsi4ulyzmXAX4DlKqf8NSK+HxHvARcAcwCzFcU1EtglIl6KiHfK9QbYCTgzIu6JiPci4gLg30Xm94B+wHBJfSPiiYh4dAKvXTKZk0opaTsbRUT/smxU9s0DfL6irF4GVsIvSySNlPTrYgp7GSurgZ9Qjicr6/NgE2D1+w/BQRkTwgvlBQ/wZvn3n5Xjb2Jl81/fHRHvA08Bg8vyZNnX4a94BjYuuceJpG0qZraXgUX5z+v1TOX7/1VWpwfmAl6MiJfG8bHzAPt2u0ZzAYMj4hFgL+BrwLOSLpU0+KPkTKYMUiklkyJPAhdWlFX/iJguIo6T1A+4EvgmMFtE9AduADrmpnGFm76BTVAdZh/HOdX/9yTweLfvnyEi1v/Ef9m4mauzIqkXMAR4uixzlX0d5gb+Ph65/2tb0jx4lrcHMEu5Xn+g63p9GE8CAyT1H8+xo7tdo2kj4hKAiLg4IlbCyiuA4yfg+5IpgFRKyaTIRcAGktaV1FvS1CWAYAgwFTYNPQe8W5zy61T+7z+BWSTNVNn3ALB+cdrPjkfxH8ZvgFeLs36aIsOikpadaH/hf7KMpI3lyL+9sBns18A9WKEeUHxMqwEbYJPg+PgnUPVXTYeVwnPgIBE8U/pIIuIfOHDkdEkzFxlWKYe/D+wiaXmZ6SSNkjSDpAUlrVEGEG/hmeF74/maZAojlVIyyRERT2Ln/yH4ZfoksD/QKyJeA/YELgdewo7+ayv/90/AJcBjxaw0GDvrf4ud7TcDl33E97+HX/5LAo8DzwNn40CBnuAaYDP893wB2Lj4b94GNsR+neeB04Ftyt84Ps7BvpyXJV0dEQ8B3wLuxgprMeDO/0G2L2Af2Z9wgMleABExFvuVvlvkfgTYrvyffsBxReZncIDEISQJmTybJK1G0teABSJi66ZlSZI6yJlSkiRJ0hpSKSVJkiStIc13SZIkSWuoZaYkab1SSuQRSQd9yHmbSApJI+qQK0mSJGkXPV5cUi4CeRqwNk76u1fStSXqp3reDDhq6p4J+dyBAwfG0KFDJ7K0SZIkSU9w3333PR8Rgz7qvDoqHi8HPFJKsSDpUhzO+1C3876O62rtNyEfOnToUMaOHTsx5UySJEl6CEl/nZDz6jDfzcl/ljp5iv8sg4KkpYC5IuK6D/sgSTtLGitp7HPPPTfxJU2SJEkapQ6lNK5yJR9EV5QSKScB+37UB0XEWRExIiJGDBr0kbPAJEmSZBKjDqX0FJXaXXTV7eowAy5rcofcaXQFXOI+gx2SJEmmMOpQSvcCwyTNK2kqXN6/WvbllYgYGBFDI2Iorum1YSlTkiRJkkxB9LhSioh3cQXim4A/ApdHxIOSjlKlS2aSJEmS1BF9R0TcgNsHVPcdMZ5zV6tDpiRJkqR91KKUJlk0IS1lepCstpEkyRRG1r5LkiRJWkMqpSRJkqQ1pFJKkiRJWkMqpSRJkqQ1pFJKkiRJWkMqpSRJkqQ1pFJKkiRJWkMqpSRJkqQ1pFJKkiRJWkMqpSRJkqQ1pFJKkiRJWkMqpSRJkqQ1pFJKkiRJWkMqpSRJkqQ1pFJKkiRJWkMqpSRJkqQ1pFJKkiRJWkMqpSRJkqQ1pFJKkiRJWkMqpSRJkqQ1pFJKkiRJWkMqpSRJkqQ1pFJKkiRJWkMqpSRJkqQ1pFJKkiRJWkMqpSRJkqQ1pFJKkiRJWkMqpSRJkqQ11KKUJK0n6WFJj0g6aBzHd5H0e0kPSPqVpOF1yJUkSZK0ix5XSpJ6A6cBI4HhwBbjUDoXR8RiEbEkcALw7Z6WK0mSJGkfdcyUlgMeiYjHIuJt4FJgTPWEiHi1sjkdEDXIlSRJkrSMPjV8x5zAk5Xtp4Dlu58kaXdgH2AqYI1xfZCknYGdAeaee+6JLmiSJEnSLHXMlDSOff81E4qI0yJifuBA4LBxfVBEnBURIyJixKBBgyaymEmSJEnT1KGUngLmqmwPAZ7+kPMvBTbqUYmSJEmSVlKHUroXGCZpXklTAZsD11ZPkDSssjkK+EsNciVJkiQto8d9ShHxrqQ9gJuA3sC5EfGgpKOAsRFxLbCHpLWAd4CXgG17Wq4kSZKkfdQR6EBE3ADc0G3fEZX1r9QhR5IkSdJusqJDkiRJ0hpSKSVJkiStIZVSkiRJ0hpSKSVJkiStIZVSkiRJ0hpSKSVJkiStIZVSkiRJ0hpSKSVJkiStIZVSkiRJ0hpSKSVJkiStIZVSkiRJ0hpSKSVJkiStIZVSkiRJ0hpSKSVJkiStIZVSkiRJ0hpSKSVJkiStIZVSkiRJ0hpSKSVJkiStIZVSkiRJ0hpSKSVJkiStIZVSkiRJ0hpSKSVJkiStIZVSkiRJ0hpSKSVJkiStIZVSkiRJ0hpSKSVJkiStIZVSkiRJ0hpSKSVJkiStIZVSkiRJ0hpqUUqS1pP0sKRHJB00juP7SHpI0u8k3SZpnjrkSpIkSdpFjyslSb2B04CRwHBgC0nDu532f8CIiFgc+BFwQk/LlSRJkrSPOmZKywGPRMRjEfE2cCkwpnpCRNweEf8qm78GhtQgV5IkSdIy6lBKcwJPVrafKvvGxxeBG8d1QNLOksZKGvvcc89NRBGTJEmSNlCHUtI49sU4T5S2BkYAJ47reEScFREjImLEoEGDJqKISZIkSRvoU8N3PAXMVdkeAjzd/SRJawGHAqtGxL9rkCtJkiRpGXXMlO4FhkmaV9JUwObAtdUTJC0FnAlsGBHP1iBTkiRJ0kJ6XClFxLvAHsBNwB+ByyPiQUlHSdqwnHYiMD1whaQHJF07no9LkiRJJmPqMN8RETcAN3Tbd0Rlfa065EiSJEnaTVZ0SJIkSVpDKqUkSZKkNaRSSpIkSVpDKqUkSZKkNaRSSpIkSVpDKqUkSZKkNaRSSpIkSVpDKqUkSZKkNaRSSpIkSVpDKqUkSZKkNaRSSpIkSVpDKqUkSZKkNaRSSpIkSVpDKqUkSZKkNaRSSpIkSVpDKqUkSZKkNaRSSpIkSVpDLZ1nkx5Cavb7I5r9/iRJJjtSKSU9SyrOJEn+B9J8lyRJkrSGVEpJkiRJa0illCRJkrSGVEpJkiRJa0illCRJkrSGVEpJkiRJa0illCRJkrSGzFNKpmwyjypJWkXOlJIkSZLWkEopSZIkaQ21KCVJ60l6WNIjkg4ax/FVJN0v6V1Jm9QhU5IkSdI+elwpSeoNnAaMBIYDW0ga3u20vwHbARf3tDxJkiRJe6kj0GE54JGIeAxA0qXAGOChzgkR8UQ59n4N8iRJkiQtpQ7z3ZzAk5Xtp8q+/xlJO0saK2nsc889N1GES5IkSdpDHUppXDG3HysONiLOiogRETFi0KBBn1CsJJlEkJpdkqRG6lBKTwFzVbaHAE/X8L1JkiTJJEYdSuleYJikeSVNBWwOXFvD9yZJkiSTGD2ulCLiXWAP4Cbgj8DlEfGgpKMkbQggaVlJTwGfB86U9GBPy5UkSZK0j1rKDEXEDcAN3fYdUVm/F5v1kiRJkimYrOiQJEmStIZUSkmSJElrSKWUJEmStIZUSkmSJElrSKWUJEmStIZUSkmSJElrSKWUJEmStIZUSkmSJElrSKWUJEmStIZUSkmSJElrqKXMUJIkkzFNt7eIj9UJJ2kpOVNKkiRJWkMqpSRJkqQ1pFJKkiRJWkP6lJIkmfxJv9ckQ86UkiRJktaQSilJkiRpDamUkiRJktaQSilJkiRpDamUkiRJktaQSilJkiRpDamUkiRJktaQSilJkiRpDamUkiRJktaQSilJkiRpDamUkiRJktaQSilJkiRpDVmQNUmSpGmyYOwH5EwpSZIkaQ21KCVJ60l6WNIjkg4ax/F+ki4rx++RNLQOuZIkSZJ20eNKSVJv4DRgJDAc2ELS8G6nfRF4KSIWAE4Cju9puZIkSZL2UcdMaTngkYh4LCLeBi4FxnQ7ZwxwQVn/EbCm1LSRNUmSJKmbOgId5gSerGw/BSw/vnMi4l1JrwCzAM9XT5K0M7Bz2Xxd0sM9IvHEYyDd/ob/iZ7Xy22XD9ovY9vlg/bL2Hb5oP0ytl0+gHkm5KQ6lNK4/truoR4Tcg4RcRZw1sQQqg4kjY2IEU3LMT7aLh+0X8a2ywftl7Ht8kH7ZWy7fP8LdZjvngLmqmwPAZ4e3zmS+gAzAS/WIFuSJEnSIupQSvcCwyTNK2kqYHPg2m7nXAtsW9Y3AX4W0aLA+SRJkqQWetx8V3xEewA3Ab2BcyPiQUlHAWMj4lrgHOBCSY/gGdLmPS1XTbTd1Nh2+aD9MrZdPmi/jG2XD9ovY9vlm2CUE5IkSZKkLWRFhyRJkqQ1pFJKkiRJWkMqpSRJkqQ1pFJKkg9BUv+mZUiSKYlUSpMpk2KZprbJLOlTwDaS+jUtSzLl0rbfRU+TSulj0HlIJPWR1LprKEmdPC9Js0mapbO/Wcm6qFzDBSQtJqlXm3LTJE0L/AO4COfZrdqwSP/FuO5n257Hyn1uzbNXpSLfZyRt0LQ83en2W16hPJeTNa16gCcFOg+JpFH4hXWapK2alqtD9eUuaX/gx8BNkjYqcrfi5VC5hlcBuwMPSJq/YbEAkDQvcDKwcES8CGwPbCjp081K1kXlOVxf0qmSTpY0IiLeb1q2KkXG0fh3ckxngNQWinwbAacDr1ePteG3UvktfxnnIs3crEQ9Tyql/5HyEK8BfA04Ftft271Uq2iczktJ0orAasDngKOACyqKqfH7LmkBYD9gHeA6oC+V0lINvxD64dJX2xQT3vH4hTWmXNfGKfdxHfwcXgjMCxxZWsW0BkmLAEcCDwDTAzdKGtSsVF1ImgPYBxgdEbdLWlTSdtClEJqmDN62B1aPiL9LWljSXB/1/yZVGn85TaLMAeyG6/UtDmwREW83+aCUH9MmZX1p4DDg6Yh4plTN2Bo4R9JmTY2mK6aS3rii8TXAZsDhwKiIeEnSSGjmhdCRLyL+BFwO/B3YF49Ovwu8A4xqypQ3DlPYUsAO+HkcCOwaEe+1JThD0gjgYOD8iDgrIvYEfg5cJ2nWBuXqXMd+wCvA+8ABkk4FDsXK/eSm5avwKrZ47FAq4VwLHF2u72RHKqUJYBwPyfR4dLovsFFE/FXSesAekqZrQL4++MX0c0lDIuJ+4FZgoKRVJfWLiJ/gth8nSpq+7plIxdy0LvB1XOJqLTwC3CgiHivmseP1300ga5Ovs10U05nA3/BIegBwCjA1sJqkaeqWscJS5d/eWFnuCWwZEX8rfpGdJfVtTLou/oUHbstKmhkgIvYHfgPc0oSMledwPTxTfxff30HANRGxBR4ovd3ErLObD2mwpNmAh/E7ZyngNmwB+TcwuG75aiEicpmABVgF2A6bm3pjf9JN5di6wB+B9RqQq09lfQjwA2D7sn0I8D38EE9d9k3fgIy9yr9rAk8ALwHTAusBvwX2B44Afg9s0PB93h04G8/iFgdmw6Pn03Hn5FmAQQ1ew9XwyH43/CL9E3By5difgLUaunadsmWLAosU+QYCPwUOAPpXzl2owXu8dvm9rjiOY+sDv2vBc7gfcD1wF1aaM1eObYgLXc/fpIw99rc3LUCbl8qPbCngD3hUenlZZgR+iDvl3gGs34B8MwHrlPXVy0t+SzzC37rsP7Ao0JWrf1NN8s0GDC3ro8sLc9VyHWcv+1cCdsVmnlXrlrGbvFsCvwZGlJfoX4Blyr0+Gvg20LdmmfpW1jcsL6lzgL3KvgWKYr8YuKeJ57B6z4BRwP3lmbsV2Koop+uxmbZ/E/IV2XoBUwFXAFuVfRtjn+Gu5T7fCGzY8HO4IfDTsn4uHiCpIu8vgcWauo49/vc3LUDbFzy6vwpYrWz3w1EwJ5TtaYEBDck2Fzbd3AH8oeybGtgU+D72dQHs3VECNcrWF9gF+FTZXhVYo6xfWlGSswLTNn2fiywHAftUtncsimnG8vKfpWZ5BgPblGdudmy6WRbPQqovqn7lOZyrgWs2E9CvrM8M3A18BlsTlsSmurXL9bsdmLcF93lb4BfALcCpOBDjXGCajtKsUyF1/y5gZPkNH4a7K/Qt+4cVGWdr+hr25JI+pY9mGmAM0AkHfhc4A5il2H//FQ4brp2IeBL/+JcHfiWpb0S8hR/km4DRJbDhpIh4pi65iv8gsBnsFUmn4aCLn5XIv37AVJKWxS/a2gNExuNTexH/8AGIiLOBO4FpIuKRiHihLvkK0wBjgRmw2XCTiLgXK4IBERGS1gIOjIh/4YjB2pA0E7ATMHO5nq8CLwAPR8R7EfEAnrWvEhGP4BnI4zXL2AlqWFnS/pJWBx7EM/OvhIMvbgYWwoOjl6G+QJtuPqRVix+rF/ZXLwOMjIh35PY/3ymy/bMO2ZoilVI3Kg/xDJKmjojr8JT5KEnrR8R7QH/8wAxqImCg266TsZ/rH8CxkuaMiFeAh3DEzs9rlm9hbNZcF3gPB2C8isPmh4cj/27EprJvAYdFxMM1y1h9EewkaS9Je2MT2GKSjpS0lKQv4PtcK3JC8abAM8AjwEnAZ/FzB3Af8DtJy2HT0x+gkYjFV/E16wVsV34bTwKXVc55FxhagnH+VbN8FMW9LrZuvIAHlKtExJ0R8ZCkNbFV4dgGBh1UnsOv4ACg2SPiemyKBdhY0r44SGnfiHizbhnrJvspVahE5ozBtvDewLcj4k5JnwWuxD6kp4A7wqHWtctX1nfBEWHvAidi5/J2ZfsF7M/5WkS8VqN8C+FAizMj4pzK/gXx9ZwZOAH76K7G/o+fdo98q0HOzn3eBdgCBzf8Dg8+7sUvh3eB+YE9I+LBGmVbCD9npwBXhMPkP41NiQ/jgcZTwF/x87l1Q9ewd1FCFOW9JnADDlc+FSvz87GvZu+IuKku2SoyCps1j8OzjP5YOY2MiH9ImhMHNjzZxDWsyLkWcAywdkS8UuR6Bt/zufDv/NRwROjkT9P2w7YteNYxFo/wr8ZT/c+VYyNxEuUXy3ZvGnCGAnthP9JKdDm5ewGfwlFsvwEWbUCuk+lywKtcw5Xxy2AebLs/G5tK5u2cV6N8CwJDyvp0RZZZ8YvzRkqEYuX8GWu+foNwkuk24zg2DLgAB64MxeadNeq+x9V7Vp6/MeVeb48DWLYsx7YtSyMydpP3AKwsf0PxuwEbFflrDVzpdv06/26JA0PWwgn5D+JB0kzleJ+6ZWxySfPdf7M4sAd2KA/CI/9jJW0VETfiVu3fl7RO2G5e68iqjKIWxVFOKwGP4aCCK4BHI+Io/CL4Q40ydQqWCvuSwCO/03Ck2Fgc9XQONjP2jvp9CzPhF+dBJZfrDeBNbEJcA9g4It6SdICkDct/q22WWZgV+GtE/KDIvLGkkySdi4MeDsQzkM8CF4R9dLVXvoj4wJrwPeCN8hu4AEcGrixXRLgsIi6IiJ/VKVvF/D6XXDUE/JKfFTgxIp6Uk06Pxy/7d+qWr/LOmA0gIi7GAUq7AHdFxCI4PeIz5bz36pSxcZrWik0vdOV/VENvB+LSN/OX7ZvwSLoTxjyamvIsOvJVtoWV5er4AQa/qJ4DLu+cU+P1G4jzeBbCUWFP4x/UzXSNmo8Cri3rMzR4r1fCod3fxMEDWwNv0zVr2xTPVGrN/yjXsD8ObLgTv+xvxKbiH+IIy4eAuXG4+uJNXcMi72w43Hvusj0C2LGsb1XkH9KgfKNx1OTtwFll38HYonBjuccbNnwNd8HWjguAo7od2wgr0tqjKduw9PlwlTX5UiLEpg3XkloPWF3SM+FIteclvQp8XtLteMR8YkQ8Ixc8va4uOaOrlt3m2M/xj7CP613s/wCb7U6kOJijPNk9TYkUmgqHK2+DfQnDgfmA/4MPnq9fA7OXa1fr7KM6Mo2IX0l6EZuVDivLYOASSY9hE+PWEfFojfL1wrO1N7By3xm/sP6MZ5pPRsSbcpWLWSJibF2yfQivAG8BJ5TrOSOwjKRlImJXST+PiFojATtIGgZ8AVdl+D1wv6TTI2I3uRjsQsBzEfHnBn1Io7Afcws8ENlT0iURsYWkz2Gf5qbh6Nopj6a1YhMLniofiysejMbRSzvhSKcT8Yu2UwX8j7guW90yqrL+Wezc/hq2i2+GQ4RvxyOtvwEL1CzfABy0MC8wJ3YmHwcs2e28ZXEy5eiG7/mX6cotWwGbb47H4emDcVDDHA1cw5nKvbyiPJMzjeO8ZbCPYck65ev+LJZ7uRJ+sc+Oq1x08s2WLNu9GpRvQLmOt9E1++2NB0g/avDZ69dtexRwREW+mXFC/tJ4INfYLLMNS+MCNPCA9McmsPWKAjoX2Lkcmw0n1R2Jc1MA5mlAxqpCGgZsAgwv2+viEeBaRbkuRamaULOMCxcldCo2Kw0p20cDy5Zzdi1KvekM+d1wiO2ilX3LY7/X94A5G5BpKhwRdkx5Kc2MI+u+SUmOLApra2zKqX1g1E3eTmmbw7HZaY3KsVE44GZMg/Ktjs3Ho7HZcztgcDnWB5s/l6z7GcRm4vXxLPzLwOdxMvHTVAYZeAC8TpP3uC3LFBXoUHJoLsE3/6d4RNUPWEvSfOGktE2ADfDLgoj4a80yVsO+dyvyHgOMlDR9OLR2P+A8XJ/r/yLiiTplBIiIP+If0gvYAd8LR1/1wr2HhuPKDVtGxLVNmUoKw4GdIuIPkqYGiIh7cKWOZ3H171qJiLfxPZwVm3IAvohnnvtImh2/0JYADgjnrjSCpAF4gLEWDlSZCviDpKmLSWxbPPK/pq7AC0mzStpTXS1jNsLmzeuwH25NYO0S1PJuRAyPiAfqfAYlzRE2Vy+CZ0K7AfdFxC3Yz/rjEsyyI44M/XNdsrWZKUYplfyPC/A0/iaAophOB/4JbCRpaEQ8i2dRl433w3qQikL6LH4hbYij1oYBq0iapsi/HU6irJXqSycc4fd9/lsxTV/keysi/q+c24TtfvqyOhj7GQhXvKAkVN4HfKPc8zrl6rTIuB/PlubHo2hwbsq8+Hr+Gzg0Iq5vIsquQm+cN7M9JdS7XLMVcWj99h2FVON9XgLPfPZUVxWEWQAi4iqc67UhsI6kfnVfvxIl+6WyeT22ztyDK5lMHRFnAF/Fs6iV8DV8ok4Z28oUkzwr90d5IiJOLg/o7Phl8DscYr0pHjVf3PTDITdB+wUO8R5d9u2PFdMNuDp57ZndlaTTDbAZcTo84gO/9AfioqXvAtNFzZUaqsgN8NbDfpp5cN+h30XEGZK2wNFY60fNDvnKNVwah6S/iqt+H4sjxk7HL7DzcPmgxhImJc0cES+V9RNwMMt6EfGApNWw6XbziHioRpk6128qHMo/BvuCB+Iipj8v5/XGFo/HI+K3dclXvnvGiHi1DIoWxKbiC3F+4azAJRFxV5mBvga826AVoXVM9jOlj8ihOQ/n0DyDp9eDy3l1y9irsq6IeA6bchaStB9ARJyIm86tQUP3rbwM1sRRa6dipX5yOOfoSpxYfBDwfN0KaRwj4Ydxkumu2Dz3U2BrSdfgWcgWDSqkUXj2OxoPMvpjX9K8uE1B4ITtWhWSpNlUmixKWh+4TNJVckWOy/Hv5RRJe2HleWidCqkbcwE/w6kbw/Cg4xJJF5aI2fuAuxtQSOsCt0taKyJexz7fz+Ak8uPwIOTzkk7HgUozpkLqRtNOrZ5cmLAcmq8DV5f12vvkdJN38yLPDjhwYAlcdXnfyjm1ViTHkXWfrmzvi4vTbohzaoaW/X3wS3VYA9etV2V9xY4MOADjUhy1OBD7QgZTf7XvfnRZJQYDv8LVLnYq93fWcmw4TtauNZKyIuf2WPnsjl/4n8Hlji7EL9WB2Cy7Ja4fR+fvqkm+zjVcDyeNL1Su7XpFzlPw7L03DQQoFdm+jMPlbwHWLfu2wgp9w/I72QLPjCfb9hOf6Bo2LUAPPhy9ywugE+E0Ox6RLo1nQ51y8Otjv0gjkWEVeXfEoek74iisY4HliryNlRoJAAAfbUlEQVSPAHs0INNwHE57aucHhBvyXVt+dJ3k4k3Li7+JcOCFi+KZDle2OKXc8/nK8XnwrOkCGgi1LfJ9t7yIetFl4twcK/WOAl0f12mrvY0HnlGuWtZ3xoECZ1eOH4GDWlZp4nfCfzayXBAPLFeu7OuLIwDPBg4q+2p/Fsv3DsQFdPfBgTQblP1fKPJt1YRck9IyWZrviq32WDyKOg6/DPbCo/r7w7wjt074Bm6DXOsUehzmpuWB3cLtEvbFo611ws7wzbGztE755sej5m9FxJ4R8fty6Ersg/tlRDwqaWUcQn9XlETfmuTrXL83sNmw44s5Ddvpd5O0QDh68gc4h6XWKtUlAvGH2G95b0S8HxHPY3PTmbgN/F8krYRf/EPCLSjqZjHgYnVVzL4bWKIkchIuXfU48BW6KpXXgqTBwOYVMzz4Wv5SUi9JU4VLBd2GQ8GvKzLX+SwuLmnxsvkirhIyHKcb7Cx3F7gQJ5GvIGnGumSbJGlaK/bEQstzaKrfhU0lCxTZzqAUAcW26DuotEGu+RpuRVeCn8oyVdleDL+4LsJdMJtILp6usj4Iv+QvxAORYeV6XotncDdTszkHh3PfQukA3O3Yp/AL9HJswmssx4cuk9iOOJenkwy7C1ZQn62cW7tZEZvdh+MZyDw4UOARXPGgc866wH4NXb9ZcKDK33A6ybLYRHdakWvz8hyOKefXWuR3Ulwmy5lStDyHpvNdxeG9AQ79vRo7QbeV1Bf7cv5FAzk0hVnxaFnRxdvl2F+xj2FnHDBQa8iypFWAuyTtImm9cGDIN3Avn3OLfN/CQQRz48rlteabYfPxO9iZ3T2U/s9YCTyAX2D7RI05PlUiIkpww9I4kOZMSWuHQ5bvBTaRtEk595EG5HsQeAJXoN8WFyfdA9hJ0oGSRuMB51/qlq3I9wLO3xqCizmvh2fm/8I+6kuxGW9LSdNFxKtNyDkpMVmFhHdXLmXqvwsezRyPH+j98Mviq9Fgwyy5RtdlwM0RcVBJ6twQZ3sPw0753cLdO+uUqxMhthx+CXytvPSRO9u+U8KDb4yI2+tW6EWOL2Lf0e14ZvRP/FL6DR6tvgnsH6763Sci3q1RthlxSPy/ccmbfSPi8Y4cJdJyCLBcRPyoLrnGh6QhOKhhG6zMV8HRlbvjWfCu2FT7+/F+SM/I1TcqFbyLqX037E+6Hle7OBAn897YGRjV/SxW5FsTD4iWxs/glrg02PZ0BbqkQpoQmp6qTayFLgW7AZ4VnYejwebF9vpTsUN3CLBgC+SdDgcN/JlSXgSbyHrjgqa1Rtl1k20hbKK7Gr/8Z6kc69RhW7oBuYYDK5X1nYCf4GCQTcu1vBvPjt7HvrAPnoua5JsRB9XsUrZPAsZWjvcp/66Knd7/VeeuRll7l39nA35c3V/kfgpYvQG5Zqusj8Qm7Y3KtV0Yz0L2Bfp3+3+NBioVGdbHSnP6sj1v0zJNisvkNlNaE78UOpEuL0XEGEmLYB/JAGzKeatmuWYKtyhH7kMzNfCb8Aj6S3iGdFJE3FqnXOND0g9x+Pwh2B7+GDYz3Y2TTvePmrvuFrmOxIOMM8LJhwfjtgknRMQ9kobiWfGuZV+tZVvKLGgXHCF2d0RcKukC/DIdiWfqC+AR9SFRY7X5It9QPII/IyJerOz/JfDHiNi5bG+JFecPI+IXNcrXF/sGA+dtnYMjFAdiJfldXCPw6zi/8DvRTGDIeCn5Xd8CVuxc4yZncJMkTWvFT7IwaeTQLIhDgBfDCbGP4pDl54FFyjk74dyVVZu+pkWeTtXqOfBLYBQOHNgbWKuc00RocC886z0T+EzZdwDukbMsDXbopKsvV69yn0/HCqA3jsL6KQ58uAtH3dV+DfGs431s9twZt98Gm8JuwzPj7fFMePE6ZcQBDadjK8FVOPm1k+ezcnn+vo5TOxYGlmjqXk/A3zIGV8bv1cTvZFJfJtmZUiXc9pfA9yPi96UUz8q4R8ku4ZDlTbHZ56ioMUy0yDgDfgmciP0cMwJHR8QTJSv+MJyE+JDcrfO2aKiHSvEhzQA8ExEPSvoecGdEXNSEPBW5uvsJe+MZ3NzAeeEZ0z64vcdXIuL+ukemFT9cdUa8Fa5p9vPwjGkmfH0j3MOrCV/c7Dgg5J84dHlj7E86B0eP7Y8HcA9EjQVgS8WIH+AZ3HnFz/Vj4IWI6FSY+Az21byNo0LfHu8HtgC5ePLrTcsxSdK0Vvw4Cy5v8we6hdviUdZjdIUyr4zDvmsvCY/NNT/GZpAZ8WzpLuz/6Njzv4KVVi1dbLvJNw1ds4358OzjVDxi3gZHh91Hsx1Eq6Hz6wCr4VmcsGI6mzJTxpn0tXfq7MiIo66ux2WWOgmTW+DQ4B2phLDXLN8AukL5Oz6vrcr2muX5uxxXo6/6c+qaIS2IrQcXdds/J55Znl7ZtxIt8Afn0sPPRNMCfCyh259DM6oow7UpPXywGexblEoNlXN3Az7VgIyDKOXzcfXigWX/wtjn8S3cYXRk2d+7wfu9T7mXZ+LZ8epl/4E4gnG5BmSqVhlYEw+SVijy/JyuYIdtaag9OK4QcSyeHfUr+0aXwcYoPEg6GM/gLqJSJaEm+RYpz94P6CqvNUPl+BCcDHt+U89eLvUvjQvwsYS2b+PKcY3mymiwT/lBDin76ozAGlBeoKt1/27ssD0Fh6ev2NC1WwDYs6zvjPMpuo9Spy0vqpNxOHCT93ot4Cdl/Vhc9uisimLam/o7xs6GZ5NT49D9vbCJeB3sS9gBz5q+WM6vVb6KnH2wf+MkXANy6rL/qHLf92743h4PbFfWt8cz9R34z8ToufCMadEmZMyl/mWSSp6tJBfeiSt7D6wc61tWD8Mjvn/hZECiPN01MS1dLZj/g3CJmUOxY3m9kptUNy8A9xUfxwXYKf9vScdUzpk6Il6LiL2Al0rJoVoYRwLpk8CXi89tWRx2OyPwNUnrRMRJEfGPuuQrDMQ5UdPjsjun4nyZPYGNI+JcnJsyWtLcDcjX8XO9i0Pkb8ZBK/uW38mNwP9FxEnl3L7j/6Qe5ZCIOL+sX4h/M0sAm0maFiDsYx0d7t2VTAFMUkopIkJu1vcmtjkfJne+JJzUuQy27b/SOb8u2Tov7nA7hKewGawjc+9yzso4OnAf4LtRf2h673B/nHtwkdJjIuISbF4aKumrkkYAh0rqX9YXoqaacVXnv6TlJc2M++E8gROKv1de8P+HS/PU3ZZgkKQDgb+H20ociRu5zYmfyTmAAcVx/zouDvq3OmUscnYCL/pHxDsRcSM2086JUyLuBp6T9H3wb6du+cpqf5XOsUWBXoCrXCwKbCNpunLs33XKlzTLJKWUCodj08nncQ2xoySdWUbSFwOHhYuY1oak/sDRko4tu/4G7FD2ExHvlf0L4Byq98Kt1+uUURHxXqXCwVK42+5xETEWm1IWxj6R2yLiZZyrtGpdI/2KQtoF38sLcEHLgdhnc4Gko3Go9cl1X0P8vM0L7C0XCL0Um2u3wAEDZ2L/yBXAD6KhJodFIY0ErpR0pKQdIuJnOKBhPkkH4Tyg0xqUbzR+1m6UtI2khcPRsecDf8KKaeYm5EuaZZILCS8zozOwqeQt3PPlMzjv5/cRcWsDIcF98Et+Pxxiey4uuPlP/CJ4ADuW98OdOh+sS7Zucq6B/R5jI+JHcofbsThJ8pByzrzhpn11ylWdIc2Ki6gejhNj1waew4mTq+Jq6peG6xvWjqRVcfj5y7jm2pLA1rg+23ew+XaaiHi6qaTJcp9PxqbZ7XDpoEsi4hhJa2M/0ykR0Ui9OLnr7rE4UKVTcPUN4MyIeKHMpAZHxN+bkC9plj5NCzAhjCOH5nlgzXAOzfV0a+tQ94sgXNNsfmw23APXPvsc8FUcTDAARwhu2aBCWhIr83OAYyXNGRGnFJPnwyWvYs+OQqrrhdpNIe2Oe2AtEi50eZNcJWEtnCR7SkTc0NMyfZiMEfFzSW/gqLqD8cs1cAL03rgyx0vl3CYUUj+cw7UZDhJYDoepHyjp3Yg4QdJ9UanoULN8c+BUiL7huo4PFLP2Ydj/9UK5bqmQplBaqZQkTQMsFU6MnI/ijAcWkcu23IdNKHdEzS2tx4WkbfAsaBccCr4ujiA6vByfBXgrIt6oWa6Ob2EodrwfEU7k/AXwdUkUxbQQNpd8QF0v1IpCGoPNYCdgR/dlEbFZRNxY/A7L00yr+s41HIlnRf1w9Fof/OI/oMh8DvBKE/6Pbkrz33KZqOnwTG6XiLhP0rbYXHtlRDzalHx44HYLsKekXSPie+HeSH/DM+NaCxAn7aOVSglHNa0naT/snB0VEc9LWhhnnb+E/TOLAU8VB/574/+4HmcAHiHfJen32P/xteJoPqqM+munvEzXxDkoDwMDiyK/W9KhwCnFx/QtoNaK391mSCOwn/D8cCuRnwD3S7okIrYIt3W4tW6lDh9cw3VwmZsdcRHYGfAgZCrs3zoUK/xGbOEVpTkKN5K7M1xXsTcwbbE0AGxbt0KqyLcGTpR9MiIukvQu/o13quWviH2IyRROqwIdJC0gac9wq4SncCTdX8Kh1BQ/wh7Y53AezuqnToVUiRyq8hoOt50zIl7DdeyeBhYuTvpGkAvRboR9IFthM+c3Jc0eEfdgc9OvOuc3pJA2xtUvXgJWl7REObY07tJ5fpGtdoVUYSSerc+K2zucGuYX+EV6SVMKCaAM1g7H/biWBg4qz90VuFbg2dgP15QPaTGc9Dwz8B1JB4b7DN2AfYYHAztHxK+KIk2mYFoV6CCHAA/HM423cG2utYB/VhzxA6Kr+u61OAGwltFft5fpVjhc+krcy2d37Ijfv/wNmwC71z1Lqpib5sVJptNhv9aDuHPnl4rcu0bEM3XK1p0yet4XK86FccDAa8DVUfr31B14Ma7ZoqSv4eoC8+Lr9mdJW+OqDufXJVtFngHYHPwvuSbc6cDBxdS5BA5kmAMrpBdx65Fnm5gJl+dwVmD2MuMdiiuunBwRx0vaHKdJPBAR59UhW9JuWjNTUstzaOA//B+b41prs+IR6sY4D+TnOOppD+DYBhXSqrh9w6E4cm0j3OPlCdzi+lFcbbkxJK2GZfxdOJfmd8A1WIluWWZ51KmQyvd17vGikuYu/s2bsb/ru0UhLYtn6U3kIPXDpsQBZdcfcIWJXYr8v8XP4kvY19UvIp4tx+pWSGvia3c6sJWkoeUZXAE4XNLhuCL4A8DiKikUyRROtKCsBF0ztk4TtDnwi/O4sr0Ezgl5FFi/7BtMA+VbgNXxSG+2sr0djmrbiq46fFM3eC2XxyPkTuPAYbhtwiGUpnJNyNe5x5XteXBez48obRLK/tVwIMHAmuWbGzi3rK+Iza+X40HRnLgdyu9xHtI9lKKrDd3j6fGs7aCyPRMlJL1yzmLAAg3KuCJWnstg8+e3cTmmuSv3v9MGZUZgxqZkzaVdS2vMd5o0cmj64si6s3C7jK+W/dvg8jdXAVdEzS0yigy9w8mxl2Ez4uYRcUc51mksdytunVFrUEi3a7gBDpl/Gd/fU7CJ6bLoMtlNEw20qpf0BDZzjsXNDV/G/rjFsd/jLawQ+oVnTE21yOiNgwbOw8/bN8ss427groj4Yl0yjU9OfA1niYihZd9GuGr/c9gH99eyv1cTv5ekxTStFctvekncFvxA7J/5Stk/ENdqO7Xb+XWV1a8WU52JUigSj/yuwT6jzvEtqL8wqOiaZVarK5+JgxqmquwbBizb0P3tyLgbLhF0NA6dPwCHWH8XVyUf3oBsvbttX4fNctOW7U9hv9cVwPJNXL9u8i0C7FbWF8YDjQPK9sx4xrRIXb+Rccg3P45KnLbc43MqxzbBdQKzTXgu412a++KuF9VQbHLavGx/uvzQOoppEKUidBPylfV98CzoJlxws6OYfgzs1/hN9AzzqvJy37Hsu6Dsa9KUOHdFkc+KO54uXLZnxubYrbC59mTqN9n1xWWfZsJRYIeU/b8FrqyctxAOYGm02yk2Hd+I/UV7Y5/wwtg8e3g5p5Huu0WW6fBg7RhclLijmM6qnDdbE/LlMukszX65+9D8A7gDO2xnL/uXx/kW+1bObWrkt2t5mU6H8yneo6vc/hhco23mOuXDkWBLlvURwOM4R2V77AM5phy7DufVNNG6fDZsmtsPB1mAZxvzV87ZEDi+rPetWb6Ostwam5T+SGl6WPaPxSbFzva0TTx/le9fDvu0huN8qSsoM3XsP7oDmK8BuTp+4E4/s0XpCkXvKKYnyZ5IuUzg0lj0XYtzaBaTdE0lH+lNYHMcSh04d+osSV+IiGuAnSLipRrlmxePljt5OwNwDsr1WEGeDMwraYGIGA0cWZds3XgOuBcHpGxfrudjwKVyrUCws3tI8ZG8W5dgJfVg//LvlThwYRo8cwMgIkbgCiLXle3aojzHQ3/gTxHxUEScjf1Je0vaN+yLGx0Rj9UljKQ54YMSW8NxQeLB4RYTR+AAhxPKdVsQ+zST5COpVSl1XvTlxXoyfnBfx5FO38Mjqu8VxXR3UU518zieDV0OEM5DmQorowMj4hYc5nqcpBmi/qTOJbEDfrCk7YF3gK0lLRcR/w5Xpg66WmeMrVM4ScMkLRh2Xv+QYrLDyvtAPAP5haQzcEO3oyPivToVZzj14Gw8+10Xz5aOx1Utlih/x4CIWBR3RG0MSSMlnQM8C7wt6dMlOOAGbLZbUe4r9XplINXTMvXBPa5+VnZ1THdfljRHOMn9G7jC+yHAmxHxi7rkSyZtalNKbc+hkTRQ0swR8TqeGb0t6cdF7idxgcjlJO2MS+svG67eUJd8gwAi4io8S7oGeDkibsc1zr5RXmBLYR9IE43lZsE5Zr+Ui6t+Cc+A78JK9EsRsSueBV+K/XMP1SxjL/ig79VmeJa+QkR8Dz9/F5d7/KCkRRoaGHVkXQQnPp8cLl76d2ym3UHSKjio4EFgN7lcVI8rdrlX1LfxoO1ZSZeX2dF38eBtT7l55TO4xt3NHbkamrEnkxi1hoRLWh6PTH8dETfLda++A/wCOC0iXpE0ddTf/G59XLroCVzW6FBJ0+P8o2kjYmNJX8Qzu5WALaLGat/lR34oNtk8Xf6dBv/wD46Il4p82+EWHj8oyqt2Smj/rbgS9GLY3/Y68DaOprwFOC8aLFwqabYovZjkygwjcerBDZK2wCHgd0TETXXLWJG1P/bHbQOsHREPyxW2x+AOvPPg6MWZsI9p+4h4u4dlGo79qudjc9w72MLRLyI2Lcd3wf6vmYA9i2UhSSacOhxXlLBb/EA/A6xWObYAVkpH0C08tybZ1sO+qzHYNHYh7ocDHvldjF/ynfNnakDG3rgI6Ny4goSAqXF47fnAzOW8GfALAhoKDCnfvTYOHJgKt0/YFvvBXsABLU1cw16V+/1AuW6n4Qi8rXC04hhsPaj9ORzXPcPh6OeW+zy07OsEFkyH/bH3UUNUIE5wvQ3YYRz7LwQur+xbHVi6qecvl0l76bGZUsd+HBFRfC+vlf1n4uixz0YZ2ZUZU/+IuLdHhBm/jAPwzOJzEXGVXE35GhxK3TsiviS3TfgxNpVtXXfCZDd5l8d9Z34TEV8vzuZ9sLLaOUofnzYgaRRwEjaNvViCCvrimecTNcrR6bRLMW3ugO/vC3iGMQ82Ie+GR/j7hgsC10plFrcuHhy9iWfq8xQ5ewGnRyV5XNJewK1h81lPy9cXt+f4ctiiUb2u02LlOROuuJJmuuTj09Naj5bm0FTkG4UTOpfApqUj8ej+HhzVBh6VDm5Ats6gYQBds7el8Yzzq2V7TmwCbTSHZjzyj8RJ0bM09P3DcI3Cmco1fB37OMCzz754lD+67Gs0qRMYDdwPbIDrKF6Bk4vnw+H1J+MZcq8GZOuPQ9JHVfZ1Zp8z4NSEM2goQTuXyWeZ6IEOkobIXU47fXLOxJFO9wHLSDomIrYtL4Qrmo7ICYdSH4wV020R8dVwYMOawCBJs0TEGxHxdAOyhaQNsdnkfElfiYj7caHNT0k6Ntwyer9wIc5WERE34qTTWzsBBnUh6VN0zXBfCVeW3whYRdIm4Yi/d3CwzTxF3sfH/4k9IuPcklYs6/2Bz+Pgi6nwzOh94Goc4PAd4IyIeCsaKMsTES8XGT7X+X3T1XRxHdx5d6+o2dqRTIZMTA2Hi0T+HhhWttfB1bLBI74FgUsohSKBEU1r5Yrsa+PIsf5le3scNTZDzXIMoKvqwQI4j2YdXFn5dzgsHWxq+lHnWrd5oSTP1vh9w3Hy9WZluw8wsqyvjx30RwGrlGu6Vs3yCfti/oEjOdcu+wcX2e8v63NihXQrDfoIK3IPwiWizgDWKH/HisBDlELJueTySZeJ3Xm2mkOzEo5m21rSVRHxG+BhSZ0cmkei5hyaDyMibik2+l9JOh2Hhe8c9YZ99wP2BKaTW5bvBvw9Im4uxzcDLpHULyKOkrRDRLxal3wfl3CYfS2UGdmBuJzNZWX3LTiY5cZwhN0G2He4CLBeRDytGguDRkQAr8oNDEfgJNgZIuLHkmbCPsOny2/obOCG8n8aJSKek3QqsCkOErkfh6UfUq5rY/7WZPJhogQ6SBoUxTks6ad4VL99OHhgdxzVdBKOvDsHv+xbo5CqSBqNzT5LRY1h35XvXxGP5p/HL6yZga/iJmjvSFoUz5DWBx7Pl8B/I3ddPRWP5KfFPZsO73bOCrgM007lOa3lhSqpb9hsSAlq2AhHJm6H29bfgk12fy7HtoqIn43705pD0mzYvNgvIp5KhZRMLD6xUpqUcmgmFEnTRo1lZSRNX51NyN1E18ctHZbHFRq+iRXTu5Kmi2bbg7ee4qM5Dzveh1T2fxqb8o6QNAb7SRYFXuvpl6qkhXBfq3Mj4o7iT/0htij8BvtljsYJscOB96PB5N0kaYKJoZQ6RRdnxvko38D+oxOw3XzvophmAN6OiH/nqKqLEk77U1zi/4LK/s/gnJq/Yl/dZ7A/KR3J46ASUj0vjlR8qIT8nwa8Fw7nXwxHLu4bDsKgTgVfqjDcgYNqzsAzjVtx25MLcIPDL+EKDlfXIVOStI1PHBEVjmJ6DbcfWA44LFyR4XicC3KWXL7ntShZ/KmQuigzspNweZbNKvvvwnXjtsYvsFvwjCkZB0UhjcHlb74q6QocNLI70EvSPXjmtG9E3FiJBqxtRhwRv8DBFQthq8J8uNzSbjh373LcQPKpumRKkrbxsWdKlZHpAFxw8U1JS2Mn80MRcWRJ7jwIODtaGLLcJkqpo+NwgdLLOo53uXDpFRFxW8Mito5OAmdRMAsApwMbl2VvYNWIeLk8oxdgs1njpuPiSzoZlzNaCudz3RkRt1aTUpNkSuQTme9KDs2R2Cl7V0ScImkZXGXgbxFxcIkUq73O2aRIqYJwHO4xdFFxxp+Hnd33Nytdu5CLv14M7BIRj0uaD5vBOgV1t4qIxyR9OiLuVle7+FaYjsu9/iauePFKNQAiSaZk/qeQ8DLinC0i/ihpAexDOhB4FZvppo6I4yWdAhwgaVhE/GXiiz15EhHXS3oNuKg45FfEibGpkLoRES9IegC4UNIXsDlscTxj2rIopDWAkyR9NkqvoTYoJPjgXr8H/FnSQtGiElFJ0iQTPFMqOTQH45I71RyaHcvxhXFi7I9LDs2Mk0IOTRuRNBfO6u8T7o+UVKjOdiR9A1ff2BCXYPoycCf2Fe2Mg0Oua0rWj6LMmN6IiDualiVJ2sD/ZL7LHJqkLUhathOJKOkYHEAwGlfWXgkHOdwWEbe3xWT3YUwKMiZJHXykUsocmqQtVIJrFgBuAp6NiE+XY8dgc+cXIuJvTcqZJMnH50NDwksOzQ2Stu3sK6HKN+CqwTcDj+CcpKXK8VRISY9QFNIoXK3h20CfEupNRByCE1CvkjRNyZ9LkmQS40OVUubQJG2ihH5/Abg4Ik6LiGWBf8h1AomI/XHU3ZsR8V6TsiZJ8vH4yOTZktdxOHBoRzGVHJrbcVXtBSPi2GhpLbtk8iFcMPVZulomgKM/55F0bTnnT03IliTJxGGCKjpExA048u4wSVuXpM4VgFWBDGVNehRJi0kaKmkaXKz05BIyDzYjfx+b8jZtTMgkSSYKE5ynlDk0SZ1UKlqsjouW3onLVh2Ji/v+QNJtOOhmFG4amX6kJJnE+Z8rOmQOTdKTqNLXSO4ntDaeHb0MfBYH1ByMi5nOWvbPg8v2bJ7PZJJM2kyUfkpJMjEoA571gfNLNfnbsBKaJyJekzQM5yKtCHwzIn4taX6skA7L+opJMumTSilpBZJmxVWz38ZVsl8seW93Ac9HxIblvAWxYro1In5bKo1MFTV2CE6SpOdIpZQ0Tml+dzWuKP9L4ELgUWCvUkT1buDpiPhcOb/WJoxJktTHJ+6nlCSfBElDcWmqEyPi6oh4AdgGmAs4XNJUpWrDMEnXwQf5c0mSTIb8T1XCk6QHWB3XqDunJMcuhQMXfgFsArwm6dSIWLyUuEqSZDImlVLSNI8BO5bGd5sB0wBLAD8B3sSKaXZg/1JJJEmSyZhUSknT3AtcARyP6yieAvwBGFqOnw3M0IhkSZLUTgY6JK1A0oCIeLGyvRruwjuq+JmSJJkCyJlS0go6CklSX5wweyxwSCqkJJmyyOi7pDUUhbQcsA9Ohr2+YZGSJKmZNN8lraIoplki4pnsxpokUx6plJIkSZLWkOa7JEmSpDWkUkqSJElaQyqlJEmSpDWkUkqSJElaQyqlJEmSpDWkUkqSJElaw/8DkIjOJ2QZMw0AAAAASUVORK5CYII=\n",
      "text/plain": [
       "<Figure size 432x288 with 1 Axes>"
      ]
     },
     "metadata": {},
     "output_type": "display_data"
    }
   ],
>>>>>>> 3e01fce88c7aad2b90acdbae2ef0bc29aabeb682
   "source": [
    "# Get feature importance\n",
    "\n",
    "importances=RF_classifier.feature_importances_\n",
    "indices = np.argsort(importances)[::-1]\n",
    "\n",
<<<<<<< HEAD
    "plt.figure()\n",
    "plt.title(\"Feature importances\")\n",
    "plt.bar(range(mytrain.shape[1]), importances[indices],\n",
    "       color=\"r\", align=\"center\")\n",
    "plt.xticks(range(mytrain.shape[1]), indices,rotation=45,horizontalalignment='right')\n",
    "plt.xlim([-1, mytrain.shape[1]])\n",
=======
    "# Get the name of each features\n",
    "feature_list=np.array(features.columns[0:9])\n",
    "\n",
    "# Visualize\n",
    "plt.figure()\n",
    "plt.title(\"Feature importances\")\n",
    "plt.bar(range(train_x.shape[1]), importances[indices],\n",
    "       color=\"r\", align=\"center\")\n",
    "plt.xticks(range(train_x.shape[1]), feature_list[indices],rotation=45,horizontalalignment='right')\n",
    "plt.xlim([-1, train_x.shape[1]])\n",
>>>>>>> 3e01fce88c7aad2b90acdbae2ef0bc29aabeb682
    "plt.tight_layout()\n",
    "plt.show()"
   ]
  },
  {
   "cell_type": "code",
   "execution_count": null,
   "metadata": {
    "collapsed": true
   },
   "outputs": [],
   "source": []
  }
 ],
 "metadata": {
  "kernelspec": {
   "display_name": "Python 3",
   "language": "python",
   "name": "python3"
  },
  "language_info": {
   "codemirror_mode": {
    "name": "ipython",
    "version": 3
   },
   "file_extension": ".py",
   "mimetype": "text/x-python",
   "name": "python",
   "nbconvert_exporter": "python",
   "pygments_lexer": "ipython3",
   "version": "3.6.2"
  }
 },
 "nbformat": 4,
 "nbformat_minor": 2
}
