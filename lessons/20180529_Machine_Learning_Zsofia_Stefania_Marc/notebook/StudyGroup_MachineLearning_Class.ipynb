{
 "cells": [
  {
   "cell_type": "markdown",
   "metadata": {},
   "source": []
  },
  {
   "cell_type": "code",
   "execution_count": 3,
   "metadata": {},
   "outputs": [
    {
     "name": "stderr",
     "output_type": "stream",
     "text": [
      "C:\\Users\\zsofi\\Anaconda3\\lib\\site-packages\\sklearn\\cross_validation.py:41: DeprecationWarning: This module was deprecated in version 0.18 in favor of the model_selection module into which all the refactored classes and functions are moved. Also note that the interface of the new CV iterators are different from that of this module. This module will be removed in 0.20.\n",
      "  \"This module will be removed in 0.20.\", DeprecationWarning)\n"
     ]
    }
   ],
   "source": [
    "# Import all the necessary packages (data handling, sklearn for carrying out supervised classification, visualisation)\n",
    "\n",
    "import numpy as np\n",
    "import pandas as pd\n",
    "\n",
    "from sklearn import datasets\n",
    "\n",
    "from sklearn.ensemble import RandomForestClassifier\n",
    "from sklearn.cross_validation import train_test_split\n",
    "from sklearn.metrics import confusion_matrix\n",
    "from sklearn.metrics import accuracy_score,precision_score,recall_score\n",
    "from sklearn.metrics import classification_report\n",
    "\n",
    "import matplotlib.pyplot as plt\n",
    "import seaborn as sns"
   ]
  },
  {
   "cell_type": "code",
   "execution_count": 5,
   "metadata": {},
   "outputs": [],
   "source": [
    "iris = datasets.load_iris()\n",
    "feature = iris.data[:, :2]  \n",
    "label = iris.target\n",
    "\n",
    "# Split into training and testing\n",
    "\n",
    "mytrain, mytest, mytrainlabel, mytestlabel = train_test_split(feature, label,train_size = 0.6)"
   ]
  },
  {
   "cell_type": "code",
   "execution_count": 6,
   "metadata": {
    "collapsed": true
   },
   "outputs": [],
   "source": [
    "# Apply Random Forest\n",
    "\n",
    "n_estimators=30\n",
    "criterion='gini'\n",
    "max_depth=30\n",
    "min_samples_split=5\n",
    "min_samples_leaf=5\n",
    "max_features='auto'\n",
    "max_leaf_nodes=None\n",
    "bootstrap=True\n",
    "oob_score=True\n",
    "n_jobs=1\n",
    "random_state=None\n",
    "verbose=0\n",
    "class_weight='balanced'\n",
    "\n",
    "forest = RandomForestClassifier(n_estimators=n_estimators, criterion=criterion, max_depth=max_depth,\n",
    "                             min_samples_split=min_samples_split, min_samples_leaf=min_samples_leaf,\n",
    "                             max_features=max_features, max_leaf_nodes=max_leaf_nodes, bootstrap=bootstrap, oob_score=oob_score,\n",
    "                             n_jobs=n_jobs, random_state=random_state, verbose=verbose,class_weight=class_weight)\n",
    "\n",
    "RF_classifier = forest.fit(mytrain, mytrainlabel)\n"
   ]
  },
  {
   "cell_type": "code",
   "execution_count": 8,
   "metadata": {},
   "outputs": [
    {
     "name": "stdout",
     "output_type": "stream",
     "text": [
      "             precision    recall  f1-score   support\n",
      "\n",
      "          0       0.89      1.00      0.94        17\n",
      "          1       0.85      0.44      0.58        25\n",
      "          2       0.57      0.89      0.70        18\n",
      "\n",
      "avg / total       0.78      0.73      0.72        60\n",
      "\n",
      "[[17  0  0]\n",
      " [ 2 11 12]\n",
      " [ 0  2 16]]\n"
     ]
    }
   ],
   "source": [
    "# Validation\n",
    "\n",
    "mypredtest=RF_classifier.predict(mytest)\n",
    "\n",
    "print(classification_report(mytestlabel, mypredtest)) \n",
    "print(confusion_matrix(mytestlabel, mypredtest))"
   ]
  },
  {
   "cell_type": "code",
   "execution_count": 11,
   "metadata": {},
   "outputs": [
    {
     "data": {
      "image/png": "[encoded data removed]",
      "text/plain": [
       "<matplotlib.figure.Figure at 0x1a321e0f9e8>"
      ]
     },
     "metadata": {},
     "output_type": "display_data"
    }
   ],
   "source": [
    "# Get feature importance\n",
    "\n",
    "importances=RF_classifier.feature_importances_\n",
    "indices = np.argsort(importances)[::-1]\n",
    "\n",
    "plt.figure()\n",
    "plt.title(\"Feature importances\")\n",
    "plt.bar(range(mytrain.shape[1]), importances[indices],\n",
    "       color=\"r\", align=\"center\")\n",
    "plt.xticks(range(mytrain.shape[1]), indices,rotation=45,horizontalalignment='right')\n",
    "plt.xlim([-1, mytrain.shape[1]])\n",
    "plt.tight_layout()\n",
    "plt.show()"
   ]
  },
  {
   "cell_type": "code",
   "execution_count": null,
   "metadata": {
    "collapsed": true
   },
   "outputs": [],
   "source": []
  }
 ],
 "metadata": {
  "kernelspec": {
   "display_name": "Python 3",
   "language": "python",
   "name": "python3"
  },
  "language_info": {
   "codemirror_mode": {
    "name": "ipython",
    "version": 3
   },
   "file_extension": ".py",
   "mimetype": "text/x-python",
   "name": "python",
   "nbconvert_exporter": "python",
   "pygments_lexer": "ipython3",
   "version": "3.6.2"
  }
 },
 "nbformat": 4,
 "nbformat_minor": 2
}
