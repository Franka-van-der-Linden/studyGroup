{
 "cells": [
  {
   "cell_type": "markdown",
   "metadata": {},
   "source": [
    "Welcome to this RNA-seq lesson, we will give a basic rundown of procces of going form your raw data to differential gene expression. For this we will use a couple of different tools: \n",
    "#Anaconda# - This will allow us to get the other packages easy without hickups. Download\n",
    "#FASTQC# - to check the quality of the reads. We will not go in depth how to work with this package here, as a previous lesson already covers the subject:\n",
    "#FASTX-toolkit# - A toolkit to filter your .fasta files in multiple ways. An alternative is trimmomatic which has many of the same features.\n",
    "#Kallisto# - This is the alligner we will be using during this example.\n",
    "#Sleuth# - the accompagnying software for Kallisto, this can be run from R(studio) or the shell, we will use Rstudio in the example.\n",
    "\n",
    "For each step we have providede example data, that can be downloaded from here. If you save all the data to a folder, and set this as your \"working directory\" all command should be able to run.\n"
   ]
  },
  {
   "cell_type": "markdown",
   "metadata": {},
   "source": []
  }
 ],
 "metadata": {
  "celltoolbar": "Edit Metadata",
  "kernelspec": {
   "display_name": "Python 3",
   "language": "python",
   "name": "python3"
  },
  "language_info": {
   "codemirror_mode": {
    "name": "ipython",
    "version": 3
   },
   "file_extension": ".py",
   "mimetype": "text/x-python",
   "name": "python",
   "nbconvert_exporter": "python",
   "pygments_lexer": "ipython3",
   "version": "3.6.3"
  }
 },
 "nbformat": 4,
 "nbformat_minor": 2
}
